{
 "cells": [
  {
   "cell_type": "code",
   "execution_count": 1,
   "id": "0ca1098c-7f90-474a-a13f-ef74934c7b6d",
   "metadata": {},
   "outputs": [],
   "source": [
    "import pandas as pd\n",
    "import numpy as np\n",
    "import matplotlib.pyplot as plt\n",
    "import seaborn as sns"
   ]
  },
  {
   "cell_type": "code",
   "execution_count": 2,
   "id": "af970d94-6f48-4a45-ae7d-861c39ee78b3",
   "metadata": {},
   "outputs": [],
   "source": [
    "df = pd.read_excel(\"anime_data.xlsx\")"
   ]
  },
  {
   "cell_type": "code",
   "execution_count": 3,
   "id": "f8d78e59-4953-4cf1-b003-1ea1b424000f",
   "metadata": {},
   "outputs": [
    {
     "data": {
      "text/html": [
       "<div>\n",
       "<style scoped>\n",
       "    .dataframe tbody tr th:only-of-type {\n",
       "        vertical-align: middle;\n",
       "    }\n",
       "\n",
       "    .dataframe tbody tr th {\n",
       "        vertical-align: top;\n",
       "    }\n",
       "\n",
       "    .dataframe thead th {\n",
       "        text-align: right;\n",
       "    }\n",
       "</style>\n",
       "<table border=\"1\" class=\"dataframe\">\n",
       "  <thead>\n",
       "    <tr style=\"text-align: right;\">\n",
       "      <th></th>\n",
       "      <th>title</th>\n",
       "      <th>description</th>\n",
       "      <th>mediaType</th>\n",
       "      <th>eps</th>\n",
       "      <th>duration</th>\n",
       "      <th>ongoing</th>\n",
       "      <th>sznOfRelease</th>\n",
       "      <th>years_running</th>\n",
       "      <th>studio_primary</th>\n",
       "      <th>studios_colab</th>\n",
       "      <th>...</th>\n",
       "      <th>tag_Supernatural</th>\n",
       "      <th>tag_Magic</th>\n",
       "      <th>tag_Animal_Protagonists</th>\n",
       "      <th>tag_Ecchi</th>\n",
       "      <th>tag_Mecha</th>\n",
       "      <th>tag_Based_on_a_Light_Novel</th>\n",
       "      <th>tag_CG_Animation</th>\n",
       "      <th>tag_Superpowers</th>\n",
       "      <th>tag_Others</th>\n",
       "      <th>tag_missing</th>\n",
       "    </tr>\n",
       "  </thead>\n",
       "  <tbody>\n",
       "    <tr>\n",
       "      <th>0</th>\n",
       "      <td>Fullmetal Alchemist: Brotherhood</td>\n",
       "      <td>The foundation of alchemy is based on the law ...</td>\n",
       "      <td>TV</td>\n",
       "      <td>64</td>\n",
       "      <td>NaN</td>\n",
       "      <td>False</td>\n",
       "      <td>Spring</td>\n",
       "      <td>1</td>\n",
       "      <td>Bones</td>\n",
       "      <td>0</td>\n",
       "      <td>...</td>\n",
       "      <td>0</td>\n",
       "      <td>0</td>\n",
       "      <td>0</td>\n",
       "      <td>0</td>\n",
       "      <td>0</td>\n",
       "      <td>0</td>\n",
       "      <td>0</td>\n",
       "      <td>0</td>\n",
       "      <td>0</td>\n",
       "      <td>0</td>\n",
       "    </tr>\n",
       "    <tr>\n",
       "      <th>1</th>\n",
       "      <td>your name.</td>\n",
       "      <td>Mitsuha and Taki are two total strangers livin...</td>\n",
       "      <td>Movie</td>\n",
       "      <td>1</td>\n",
       "      <td>107.0</td>\n",
       "      <td>False</td>\n",
       "      <td>is_missing</td>\n",
       "      <td>0</td>\n",
       "      <td>Others</td>\n",
       "      <td>0</td>\n",
       "      <td>...</td>\n",
       "      <td>1</td>\n",
       "      <td>0</td>\n",
       "      <td>0</td>\n",
       "      <td>0</td>\n",
       "      <td>0</td>\n",
       "      <td>0</td>\n",
       "      <td>0</td>\n",
       "      <td>0</td>\n",
       "      <td>0</td>\n",
       "      <td>0</td>\n",
       "    </tr>\n",
       "  </tbody>\n",
       "</table>\n",
       "<p>2 rows × 44 columns</p>\n",
       "</div>"
      ],
      "text/plain": [
       "                              title  \\\n",
       "0  Fullmetal Alchemist: Brotherhood   \n",
       "1                        your name.   \n",
       "\n",
       "                                         description mediaType  eps  duration  \\\n",
       "0  The foundation of alchemy is based on the law ...        TV   64       NaN   \n",
       "1  Mitsuha and Taki are two total strangers livin...     Movie    1     107.0   \n",
       "\n",
       "   ongoing sznOfRelease  years_running studio_primary  studios_colab  ...  \\\n",
       "0    False       Spring              1          Bones              0  ...   \n",
       "1    False   is_missing              0         Others              0  ...   \n",
       "\n",
       "   tag_Supernatural  tag_Magic  tag_Animal_Protagonists  tag_Ecchi  tag_Mecha  \\\n",
       "0                 0          0                        0          0          0   \n",
       "1                 1          0                        0          0          0   \n",
       "\n",
       "   tag_Based_on_a_Light_Novel  tag_CG_Animation  tag_Superpowers  tag_Others  \\\n",
       "0                           0                 0                0           0   \n",
       "1                           0                 0                0           0   \n",
       "\n",
       "   tag_missing  \n",
       "0            0  \n",
       "1            0  \n",
       "\n",
       "[2 rows x 44 columns]"
      ]
     },
     "execution_count": 3,
     "metadata": {},
     "output_type": "execute_result"
    }
   ],
   "source": [
    "df.head(2)"
   ]
  },
  {
   "cell_type": "code",
   "execution_count": 4,
   "id": "c35a6e14-dca5-43d0-a4e4-764e819f58d5",
   "metadata": {},
   "outputs": [
    {
     "data": {
      "text/plain": [
       "(12101, 44)"
      ]
     },
     "execution_count": 4,
     "metadata": {},
     "output_type": "execute_result"
    }
   ],
   "source": [
    "df.shape"
   ]
  },
  {
   "cell_type": "code",
   "execution_count": 5,
   "id": "5e25187f-7eae-445f-ba23-172fa1f3961f",
   "metadata": {},
   "outputs": [
    {
     "data": {
      "text/plain": [
       "count    12101.000000\n",
       "mean        13.393356\n",
       "std         57.925097\n",
       "min          1.000000\n",
       "25%          1.000000\n",
       "50%          2.000000\n",
       "75%         12.000000\n",
       "max       2527.000000\n",
       "Name: eps, dtype: float64"
      ]
     },
     "execution_count": 5,
     "metadata": {},
     "output_type": "execute_result"
    }
   ],
   "source": [
    "df.eps.describe()"
   ]
  },
  {
   "cell_type": "code",
   "execution_count": 6,
   "id": "423e3b5e-b64d-4307-8c21-e49144c55e2d",
   "metadata": {},
   "outputs": [
    {
     "data": {
      "text/plain": [
       "Index(['title', 'description', 'mediaType', 'eps', 'duration', 'ongoing',\n",
       "       'sznOfRelease', 'years_running', 'studio_primary', 'studios_colab',\n",
       "       'contentWarn', 'watched', 'watching', 'wantWatch', 'dropped', 'rating',\n",
       "       'votes', 'tag_Based_on_a_Manga', 'tag_Comedy', 'tag_Action',\n",
       "       'tag_Fantasy', 'tag_Sci_Fi', 'tag_Shounen', 'tag_Original_Work',\n",
       "       'tag_Non_Human_Protagonists', 'tag_Drama', 'tag_Adventure',\n",
       "       'tag_Family_Friendly', 'tag_Short_Episodes', 'tag_School_Life',\n",
       "       'tag_Romance', 'tag_Shorts', 'tag_Slice_of_Life', 'tag_Seinen',\n",
       "       'tag_Supernatural', 'tag_Magic', 'tag_Animal_Protagonists', 'tag_Ecchi',\n",
       "       'tag_Mecha', 'tag_Based_on_a_Light_Novel', 'tag_CG_Animation',\n",
       "       'tag_Superpowers', 'tag_Others', 'tag_missing'],\n",
       "      dtype='object')"
      ]
     },
     "execution_count": 6,
     "metadata": {},
     "output_type": "execute_result"
    }
   ],
   "source": [
    "df.columns"
   ]
  },
  {
   "cell_type": "code",
   "execution_count": 7,
   "id": "89ed7b16-c284-419b-b653-63b4e919180d",
   "metadata": {},
   "outputs": [
    {
     "data": {
      "text/plain": [
       "(1493, 44)"
      ]
     },
     "execution_count": 7,
     "metadata": {},
     "output_type": "execute_result"
    }
   ],
   "source": [
    "df[(df['eps']>24 ) & (df.duration.isna())].shape"
   ]
  },
  {
   "cell_type": "code",
   "execution_count": 8,
   "id": "3a89d88d-654b-4256-9519-96149b978c66",
   "metadata": {},
   "outputs": [],
   "source": [
    "df_excluding_out = df[df['eps']<50]"
   ]
  },
  {
   "cell_type": "code",
   "execution_count": 9,
   "id": "4de3a4c6-6eeb-481f-8e09-e88e9801fc94",
   "metadata": {},
   "outputs": [
    {
     "name": "stderr",
     "output_type": "stream",
     "text": [
      "C:\\Users\\LEKHRAJ\\AppData\\Local\\Temp\\ipykernel_14932\\1081955391.py:1: SettingWithCopyWarning: \n",
      "A value is trying to be set on a copy of a slice from a DataFrame.\n",
      "Try using .loc[row_indexer,col_indexer] = value instead\n",
      "\n",
      "See the caveats in the documentation: https://pandas.pydata.org/pandas-docs/stable/user_guide/indexing.html#returning-a-view-versus-a-copy\n",
      "  df_excluding_out['eps_brackets'] = pd.cut(df_excluding_out['eps'], bins=[1, 10, 20, 30, 40, 50], \\\n"
     ]
    }
   ],
   "source": [
    "df_excluding_out['eps_brackets'] = pd.cut(df_excluding_out['eps'], bins=[1, 10, 20, 30, 40, 50], \\\n",
    "labels=['cats1', 'cats2', 'cats3', 'cats4', 'cats5'])\n"
   ]
  },
  {
   "cell_type": "code",
   "execution_count": 10,
   "id": "9cb1a40b-c1bd-423b-939b-c009ef426f7c",
   "metadata": {},
   "outputs": [
    {
     "data": {
      "text/plain": [
       "(11388, 45)"
      ]
     },
     "execution_count": 10,
     "metadata": {},
     "output_type": "execute_result"
    }
   ],
   "source": [
    "df_excluding_out .shape"
   ]
  },
  {
   "cell_type": "code",
   "execution_count": 11,
   "id": "36458b65-facd-4764-b948-c07d6461f814",
   "metadata": {},
   "outputs": [
    {
     "name": "stderr",
     "output_type": "stream",
     "text": [
      "C:\\Users\\LEKHRAJ\\AppData\\Local\\Temp\\ipykernel_14932\\36067506.py:1: FutureWarning: The default of observed=False is deprecated and will be changed to True in a future version of pandas. Pass observed=False to retain current behavior or observed=True to adopt the future default and silence this warning.\n",
      "  df_excluding_out.groupby(['eps_brackets']).duration.mean()\n"
     ]
    },
    {
     "data": {
      "text/plain": [
       "eps_brackets\n",
       "cats1    13.556684\n",
       "cats2     7.419295\n",
       "cats3     7.184783\n",
       "cats4     8.549020\n",
       "cats5     8.823529\n",
       "Name: duration, dtype: float64"
      ]
     },
     "execution_count": 11,
     "metadata": {},
     "output_type": "execute_result"
    }
   ],
   "source": [
    "df_excluding_out.groupby(['eps_brackets']).duration.mean()"
   ]
  },
  {
   "cell_type": "code",
   "execution_count": 12,
   "id": "2e737b3f-32cf-4b7a-a034-8f91358b52ce",
   "metadata": {},
   "outputs": [
    {
     "name": "stderr",
     "output_type": "stream",
     "text": [
      "C:\\Users\\LEKHRAJ\\AppData\\Local\\Temp\\ipykernel_14932\\566786910.py:1: FutureWarning: The default of observed=False is deprecated and will be changed to True in a future version of pandas. Pass observed=False to retain current behavior or observed=True to adopt the future default and silence this warning.\n",
      "  df_excluding_out.groupby(['eps_brackets']).title.count()\n"
     ]
    },
    {
     "data": {
      "text/plain": [
       "eps_brackets\n",
       "cats1    1901\n",
       "cats2    2111\n",
       "cats3    1038\n",
       "cats4     220\n",
       "cats5     169\n",
       "Name: title, dtype: int64"
      ]
     },
     "execution_count": 12,
     "metadata": {},
     "output_type": "execute_result"
    }
   ],
   "source": [
    "df_excluding_out.groupby(['eps_brackets']).title.count()\n"
   ]
  },
  {
   "cell_type": "code",
   "execution_count": 13,
   "id": "424227d2-4daf-4d3a-a65f-0a244259113f",
   "metadata": {},
   "outputs": [
    {
     "data": {
      "text/plain": [
       "(1901, 45)"
      ]
     },
     "execution_count": 13,
     "metadata": {},
     "output_type": "execute_result"
    }
   ],
   "source": [
    "df_excluding_out[df_excluding_out['eps_brackets'] =='cats1'].shape"
   ]
  },
  {
   "cell_type": "code",
   "execution_count": 14,
   "id": "2ad22b93-508f-42a4-935d-7a948a63eba2",
   "metadata": {},
   "outputs": [
    {
     "data": {
      "text/html": [
       "<div>\n",
       "<style scoped>\n",
       "    .dataframe tbody tr th:only-of-type {\n",
       "        vertical-align: middle;\n",
       "    }\n",
       "\n",
       "    .dataframe tbody tr th {\n",
       "        vertical-align: top;\n",
       "    }\n",
       "\n",
       "    .dataframe thead th {\n",
       "        text-align: right;\n",
       "    }\n",
       "</style>\n",
       "<table border=\"1\" class=\"dataframe\">\n",
       "  <thead>\n",
       "    <tr style=\"text-align: right;\">\n",
       "      <th></th>\n",
       "      <th>eps</th>\n",
       "      <th>duration</th>\n",
       "      <th>years_running</th>\n",
       "      <th>studios_colab</th>\n",
       "      <th>contentWarn</th>\n",
       "      <th>watched</th>\n",
       "      <th>watching</th>\n",
       "      <th>wantWatch</th>\n",
       "      <th>dropped</th>\n",
       "      <th>rating</th>\n",
       "      <th>...</th>\n",
       "      <th>tag_Supernatural</th>\n",
       "      <th>tag_Magic</th>\n",
       "      <th>tag_Animal_Protagonists</th>\n",
       "      <th>tag_Ecchi</th>\n",
       "      <th>tag_Mecha</th>\n",
       "      <th>tag_Based_on_a_Light_Novel</th>\n",
       "      <th>tag_CG_Animation</th>\n",
       "      <th>tag_Superpowers</th>\n",
       "      <th>tag_Others</th>\n",
       "      <th>tag_missing</th>\n",
       "    </tr>\n",
       "  </thead>\n",
       "  <tbody>\n",
       "    <tr>\n",
       "      <th>count</th>\n",
       "      <td>7098.000000</td>\n",
       "      <td>7098.000000</td>\n",
       "      <td>7098.000000</td>\n",
       "      <td>7098.000000</td>\n",
       "      <td>7098.000000</td>\n",
       "      <td>7098.000000</td>\n",
       "      <td>7098.000000</td>\n",
       "      <td>7098.000000</td>\n",
       "      <td>7098.000000</td>\n",
       "      <td>7098.000000</td>\n",
       "      <td>...</td>\n",
       "      <td>7098.000000</td>\n",
       "      <td>7098.000000</td>\n",
       "      <td>7098.000000</td>\n",
       "      <td>7098.000000</td>\n",
       "      <td>7098.000000</td>\n",
       "      <td>7098.000000</td>\n",
       "      <td>7098.00000</td>\n",
       "      <td>7098.000000</td>\n",
       "      <td>7098.000000</td>\n",
       "      <td>7098.000000</td>\n",
       "    </tr>\n",
       "    <tr>\n",
       "      <th>mean</th>\n",
       "      <td>2.546210</td>\n",
       "      <td>25.080727</td>\n",
       "      <td>0.104959</td>\n",
       "      <td>0.034658</td>\n",
       "      <td>0.095661</td>\n",
       "      <td>1531.826289</td>\n",
       "      <td>42.525923</td>\n",
       "      <td>609.343054</td>\n",
       "      <td>22.749084</td>\n",
       "      <td>2.742419</td>\n",
       "      <td>...</td>\n",
       "      <td>0.057904</td>\n",
       "      <td>0.044520</td>\n",
       "      <td>0.066216</td>\n",
       "      <td>0.042265</td>\n",
       "      <td>0.038321</td>\n",
       "      <td>0.033390</td>\n",
       "      <td>0.05410</td>\n",
       "      <td>0.033671</td>\n",
       "      <td>0.132150</td>\n",
       "      <td>0.039589</td>\n",
       "    </tr>\n",
       "    <tr>\n",
       "      <th>std</th>\n",
       "      <td>3.611337</td>\n",
       "      <td>32.016127</td>\n",
       "      <td>0.556363</td>\n",
       "      <td>0.182924</td>\n",
       "      <td>0.294146</td>\n",
       "      <td>4699.844075</td>\n",
       "      <td>238.987630</td>\n",
       "      <td>1301.861782</td>\n",
       "      <td>72.586285</td>\n",
       "      <td>0.831137</td>\n",
       "      <td>...</td>\n",
       "      <td>0.233578</td>\n",
       "      <td>0.206261</td>\n",
       "      <td>0.248677</td>\n",
       "      <td>0.201208</td>\n",
       "      <td>0.191983</td>\n",
       "      <td>0.179665</td>\n",
       "      <td>0.22623</td>\n",
       "      <td>0.180395</td>\n",
       "      <td>0.338678</td>\n",
       "      <td>0.195004</td>\n",
       "    </tr>\n",
       "    <tr>\n",
       "      <th>min</th>\n",
       "      <td>1.000000</td>\n",
       "      <td>1.000000</td>\n",
       "      <td>0.000000</td>\n",
       "      <td>0.000000</td>\n",
       "      <td>0.000000</td>\n",
       "      <td>0.000000</td>\n",
       "      <td>0.000000</td>\n",
       "      <td>0.000000</td>\n",
       "      <td>0.000000</td>\n",
       "      <td>0.844000</td>\n",
       "      <td>...</td>\n",
       "      <td>0.000000</td>\n",
       "      <td>0.000000</td>\n",
       "      <td>0.000000</td>\n",
       "      <td>0.000000</td>\n",
       "      <td>0.000000</td>\n",
       "      <td>0.000000</td>\n",
       "      <td>0.00000</td>\n",
       "      <td>0.000000</td>\n",
       "      <td>0.000000</td>\n",
       "      <td>0.000000</td>\n",
       "    </tr>\n",
       "    <tr>\n",
       "      <th>25%</th>\n",
       "      <td>1.000000</td>\n",
       "      <td>4.000000</td>\n",
       "      <td>0.000000</td>\n",
       "      <td>0.000000</td>\n",
       "      <td>0.000000</td>\n",
       "      <td>41.000000</td>\n",
       "      <td>1.000000</td>\n",
       "      <td>28.000000</td>\n",
       "      <td>1.000000</td>\n",
       "      <td>2.072000</td>\n",
       "      <td>...</td>\n",
       "      <td>0.000000</td>\n",
       "      <td>0.000000</td>\n",
       "      <td>0.000000</td>\n",
       "      <td>0.000000</td>\n",
       "      <td>0.000000</td>\n",
       "      <td>0.000000</td>\n",
       "      <td>0.00000</td>\n",
       "      <td>0.000000</td>\n",
       "      <td>0.000000</td>\n",
       "      <td>0.000000</td>\n",
       "    </tr>\n",
       "    <tr>\n",
       "      <th>50%</th>\n",
       "      <td>1.000000</td>\n",
       "      <td>9.000000</td>\n",
       "      <td>0.000000</td>\n",
       "      <td>0.000000</td>\n",
       "      <td>0.000000</td>\n",
       "      <td>170.000000</td>\n",
       "      <td>5.000000</td>\n",
       "      <td>136.000000</td>\n",
       "      <td>5.000000</td>\n",
       "      <td>2.707000</td>\n",
       "      <td>...</td>\n",
       "      <td>0.000000</td>\n",
       "      <td>0.000000</td>\n",
       "      <td>0.000000</td>\n",
       "      <td>0.000000</td>\n",
       "      <td>0.000000</td>\n",
       "      <td>0.000000</td>\n",
       "      <td>0.00000</td>\n",
       "      <td>0.000000</td>\n",
       "      <td>0.000000</td>\n",
       "      <td>0.000000</td>\n",
       "    </tr>\n",
       "    <tr>\n",
       "      <th>75%</th>\n",
       "      <td>1.000000</td>\n",
       "      <td>30.000000</td>\n",
       "      <td>0.000000</td>\n",
       "      <td>0.000000</td>\n",
       "      <td>0.000000</td>\n",
       "      <td>914.000000</td>\n",
       "      <td>26.000000</td>\n",
       "      <td>622.000000</td>\n",
       "      <td>17.000000</td>\n",
       "      <td>3.387750</td>\n",
       "      <td>...</td>\n",
       "      <td>0.000000</td>\n",
       "      <td>0.000000</td>\n",
       "      <td>0.000000</td>\n",
       "      <td>0.000000</td>\n",
       "      <td>0.000000</td>\n",
       "      <td>0.000000</td>\n",
       "      <td>0.00000</td>\n",
       "      <td>0.000000</td>\n",
       "      <td>0.000000</td>\n",
       "      <td>0.000000</td>\n",
       "    </tr>\n",
       "    <tr>\n",
       "      <th>max</th>\n",
       "      <td>23.000000</td>\n",
       "      <td>163.000000</td>\n",
       "      <td>20.000000</td>\n",
       "      <td>1.000000</td>\n",
       "      <td>1.000000</td>\n",
       "      <td>115949.000000</td>\n",
       "      <td>15732.000000</td>\n",
       "      <td>21733.000000</td>\n",
       "      <td>2010.000000</td>\n",
       "      <td>4.663000</td>\n",
       "      <td>...</td>\n",
       "      <td>1.000000</td>\n",
       "      <td>1.000000</td>\n",
       "      <td>1.000000</td>\n",
       "      <td>1.000000</td>\n",
       "      <td>1.000000</td>\n",
       "      <td>1.000000</td>\n",
       "      <td>1.00000</td>\n",
       "      <td>1.000000</td>\n",
       "      <td>1.000000</td>\n",
       "      <td>1.000000</td>\n",
       "    </tr>\n",
       "  </tbody>\n",
       "</table>\n",
       "<p>8 rows × 38 columns</p>\n",
       "</div>"
      ],
      "text/plain": [
       "               eps     duration  years_running  studios_colab  contentWarn  \\\n",
       "count  7098.000000  7098.000000    7098.000000    7098.000000  7098.000000   \n",
       "mean      2.546210    25.080727       0.104959       0.034658     0.095661   \n",
       "std       3.611337    32.016127       0.556363       0.182924     0.294146   \n",
       "min       1.000000     1.000000       0.000000       0.000000     0.000000   \n",
       "25%       1.000000     4.000000       0.000000       0.000000     0.000000   \n",
       "50%       1.000000     9.000000       0.000000       0.000000     0.000000   \n",
       "75%       1.000000    30.000000       0.000000       0.000000     0.000000   \n",
       "max      23.000000   163.000000      20.000000       1.000000     1.000000   \n",
       "\n",
       "             watched      watching     wantWatch      dropped       rating  \\\n",
       "count    7098.000000   7098.000000   7098.000000  7098.000000  7098.000000   \n",
       "mean     1531.826289     42.525923    609.343054    22.749084     2.742419   \n",
       "std      4699.844075    238.987630   1301.861782    72.586285     0.831137   \n",
       "min         0.000000      0.000000      0.000000     0.000000     0.844000   \n",
       "25%        41.000000      1.000000     28.000000     1.000000     2.072000   \n",
       "50%       170.000000      5.000000    136.000000     5.000000     2.707000   \n",
       "75%       914.000000     26.000000    622.000000    17.000000     3.387750   \n",
       "max    115949.000000  15732.000000  21733.000000  2010.000000     4.663000   \n",
       "\n",
       "       ...  tag_Supernatural    tag_Magic  tag_Animal_Protagonists  \\\n",
       "count  ...       7098.000000  7098.000000              7098.000000   \n",
       "mean   ...          0.057904     0.044520                 0.066216   \n",
       "std    ...          0.233578     0.206261                 0.248677   \n",
       "min    ...          0.000000     0.000000                 0.000000   \n",
       "25%    ...          0.000000     0.000000                 0.000000   \n",
       "50%    ...          0.000000     0.000000                 0.000000   \n",
       "75%    ...          0.000000     0.000000                 0.000000   \n",
       "max    ...          1.000000     1.000000                 1.000000   \n",
       "\n",
       "         tag_Ecchi    tag_Mecha  tag_Based_on_a_Light_Novel  tag_CG_Animation  \\\n",
       "count  7098.000000  7098.000000                 7098.000000        7098.00000   \n",
       "mean      0.042265     0.038321                    0.033390           0.05410   \n",
       "std       0.201208     0.191983                    0.179665           0.22623   \n",
       "min       0.000000     0.000000                    0.000000           0.00000   \n",
       "25%       0.000000     0.000000                    0.000000           0.00000   \n",
       "50%       0.000000     0.000000                    0.000000           0.00000   \n",
       "75%       0.000000     0.000000                    0.000000           0.00000   \n",
       "max       1.000000     1.000000                    1.000000           1.00000   \n",
       "\n",
       "       tag_Superpowers   tag_Others  tag_missing  \n",
       "count      7098.000000  7098.000000  7098.000000  \n",
       "mean          0.033671     0.132150     0.039589  \n",
       "std           0.180395     0.338678     0.195004  \n",
       "min           0.000000     0.000000     0.000000  \n",
       "25%           0.000000     0.000000     0.000000  \n",
       "50%           0.000000     0.000000     0.000000  \n",
       "75%           0.000000     0.000000     0.000000  \n",
       "max           1.000000     1.000000     1.000000  \n",
       "\n",
       "[8 rows x 38 columns]"
      ]
     },
     "execution_count": 14,
     "metadata": {},
     "output_type": "execute_result"
    }
   ],
   "source": [
    "df[(df['eps']<24) &(~df.duration.isna())].describe()"
   ]
  },
  {
   "cell_type": "code",
   "execution_count": 15,
   "id": "cfddee68-2ec3-46e8-8907-5294d4818424",
   "metadata": {},
   "outputs": [
    {
     "data": {
      "text/html": [
       "<div>\n",
       "<style scoped>\n",
       "    .dataframe tbody tr th:only-of-type {\n",
       "        vertical-align: middle;\n",
       "    }\n",
       "\n",
       "    .dataframe tbody tr th {\n",
       "        vertical-align: top;\n",
       "    }\n",
       "\n",
       "    .dataframe thead th {\n",
       "        text-align: right;\n",
       "    }\n",
       "</style>\n",
       "<table border=\"1\" class=\"dataframe\">\n",
       "  <thead>\n",
       "    <tr style=\"text-align: right;\">\n",
       "      <th></th>\n",
       "      <th>duration</th>\n",
       "      <th>mediaType</th>\n",
       "    </tr>\n",
       "    <tr>\n",
       "      <th>mediaType</th>\n",
       "      <th></th>\n",
       "      <th></th>\n",
       "    </tr>\n",
       "  </thead>\n",
       "  <tbody>\n",
       "    <tr>\n",
       "      <th>DVD Special</th>\n",
       "      <td>10.995798</td>\n",
       "      <td>802</td>\n",
       "    </tr>\n",
       "    <tr>\n",
       "      <th>Movie</th>\n",
       "      <td>57.869213</td>\n",
       "      <td>1928</td>\n",
       "    </tr>\n",
       "    <tr>\n",
       "      <th>Music Video</th>\n",
       "      <td>4.009412</td>\n",
       "      <td>1290</td>\n",
       "    </tr>\n",
       "    <tr>\n",
       "      <th>OVA</th>\n",
       "      <td>32.913809</td>\n",
       "      <td>1769</td>\n",
       "    </tr>\n",
       "    <tr>\n",
       "      <th>Other</th>\n",
       "      <td>7.219378</td>\n",
       "      <td>576</td>\n",
       "    </tr>\n",
       "    <tr>\n",
       "      <th>TV</th>\n",
       "      <td>7.130662</td>\n",
       "      <td>3308</td>\n",
       "    </tr>\n",
       "    <tr>\n",
       "      <th>TV Special</th>\n",
       "      <td>45.795181</td>\n",
       "      <td>504</td>\n",
       "    </tr>\n",
       "    <tr>\n",
       "      <th>Web</th>\n",
       "      <td>7.116523</td>\n",
       "      <td>1152</td>\n",
       "    </tr>\n",
       "    <tr>\n",
       "      <th>is_missing</th>\n",
       "      <td>17.555556</td>\n",
       "      <td>59</td>\n",
       "    </tr>\n",
       "  </tbody>\n",
       "</table>\n",
       "</div>"
      ],
      "text/plain": [
       "              duration  mediaType\n",
       "mediaType                        \n",
       "DVD Special  10.995798        802\n",
       "Movie        57.869213       1928\n",
       "Music Video   4.009412       1290\n",
       "OVA          32.913809       1769\n",
       "Other         7.219378        576\n",
       "TV            7.130662       3308\n",
       "TV Special   45.795181        504\n",
       "Web           7.116523       1152\n",
       "is_missing   17.555556         59"
      ]
     },
     "execution_count": 15,
     "metadata": {},
     "output_type": "execute_result"
    }
   ],
   "source": [
    "df_excluding_out.groupby(['mediaType']).agg({'duration':'mean','mediaType':'count'})\n"
   ]
  },
  {
   "cell_type": "code",
   "execution_count": 16,
   "id": "3acbbfc2-114b-4106-90f9-a865b84fd11d",
   "metadata": {},
   "outputs": [
    {
     "data": {
      "text/plain": [
       "title                            1\n",
       "description                   4468\n",
       "mediaType                        0\n",
       "eps                              0\n",
       "duration                      4636\n",
       "ongoing                          0\n",
       "sznOfRelease                     0\n",
       "years_running                    0\n",
       "studio_primary                   0\n",
       "studios_colab                    0\n",
       "contentWarn                      0\n",
       "watched                          0\n",
       "watching                         0\n",
       "wantWatch                        0\n",
       "dropped                          0\n",
       "rating                           0\n",
       "votes                            0\n",
       "tag_Based_on_a_Manga             0\n",
       "tag_Comedy                       0\n",
       "tag_Action                       0\n",
       "tag_Fantasy                      0\n",
       "tag_Sci_Fi                       0\n",
       "tag_Shounen                      0\n",
       "tag_Original_Work                0\n",
       "tag_Non_Human_Protagonists       0\n",
       "tag_Drama                        0\n",
       "tag_Adventure                    0\n",
       "tag_Family_Friendly              0\n",
       "tag_Short_Episodes               0\n",
       "tag_School_Life                  0\n",
       "tag_Romance                      0\n",
       "tag_Shorts                       0\n",
       "tag_Slice_of_Life                0\n",
       "tag_Seinen                       0\n",
       "tag_Supernatural                 0\n",
       "tag_Magic                        0\n",
       "tag_Animal_Protagonists          0\n",
       "tag_Ecchi                        0\n",
       "tag_Mecha                        0\n",
       "tag_Based_on_a_Light_Novel       0\n",
       "tag_CG_Animation                 0\n",
       "tag_Superpowers                  0\n",
       "tag_Others                       0\n",
       "tag_missing                      0\n",
       "dtype: int64"
      ]
     },
     "execution_count": 16,
     "metadata": {},
     "output_type": "execute_result"
    }
   ],
   "source": [
    "df.isna().sum()"
   ]
  },
  {
   "cell_type": "code",
   "execution_count": 17,
   "id": "985bfd41-e1f5-4ad3-890f-6970fe315797",
   "metadata": {},
   "outputs": [
    {
     "name": "stdout",
     "output_type": "stream",
     "text": [
      "<class 'pandas.core.frame.DataFrame'>\n",
      "RangeIndex: 12101 entries, 0 to 12100\n",
      "Data columns (total 44 columns):\n",
      " #   Column                      Non-Null Count  Dtype  \n",
      "---  ------                      --------------  -----  \n",
      " 0   title                       12100 non-null  object \n",
      " 1   description                 7633 non-null   object \n",
      " 2   mediaType                   12101 non-null  object \n",
      " 3   eps                         12101 non-null  int64  \n",
      " 4   duration                    7465 non-null   float64\n",
      " 5   ongoing                     12101 non-null  bool   \n",
      " 6   sznOfRelease                12101 non-null  object \n",
      " 7   years_running               12101 non-null  int64  \n",
      " 8   studio_primary              12101 non-null  object \n",
      " 9   studios_colab               12101 non-null  int64  \n",
      " 10  contentWarn                 12101 non-null  int64  \n",
      " 11  watched                     12101 non-null  float64\n",
      " 12  watching                    12101 non-null  int64  \n",
      " 13  wantWatch                   12101 non-null  int64  \n",
      " 14  dropped                     12101 non-null  int64  \n",
      " 15  rating                      12101 non-null  float64\n",
      " 16  votes                       12101 non-null  int64  \n",
      " 17  tag_Based_on_a_Manga        12101 non-null  int64  \n",
      " 18  tag_Comedy                  12101 non-null  int64  \n",
      " 19  tag_Action                  12101 non-null  int64  \n",
      " 20  tag_Fantasy                 12101 non-null  int64  \n",
      " 21  tag_Sci_Fi                  12101 non-null  int64  \n",
      " 22  tag_Shounen                 12101 non-null  int64  \n",
      " 23  tag_Original_Work           12101 non-null  int64  \n",
      " 24  tag_Non_Human_Protagonists  12101 non-null  int64  \n",
      " 25  tag_Drama                   12101 non-null  int64  \n",
      " 26  tag_Adventure               12101 non-null  int64  \n",
      " 27  tag_Family_Friendly         12101 non-null  int64  \n",
      " 28  tag_Short_Episodes          12101 non-null  int64  \n",
      " 29  tag_School_Life             12101 non-null  int64  \n",
      " 30  tag_Romance                 12101 non-null  int64  \n",
      " 31  tag_Shorts                  12101 non-null  int64  \n",
      " 32  tag_Slice_of_Life           12101 non-null  int64  \n",
      " 33  tag_Seinen                  12101 non-null  int64  \n",
      " 34  tag_Supernatural            12101 non-null  int64  \n",
      " 35  tag_Magic                   12101 non-null  int64  \n",
      " 36  tag_Animal_Protagonists     12101 non-null  int64  \n",
      " 37  tag_Ecchi                   12101 non-null  int64  \n",
      " 38  tag_Mecha                   12101 non-null  int64  \n",
      " 39  tag_Based_on_a_Light_Novel  12101 non-null  int64  \n",
      " 40  tag_CG_Animation            12101 non-null  int64  \n",
      " 41  tag_Superpowers             12101 non-null  int64  \n",
      " 42  tag_Others                  12101 non-null  int64  \n",
      " 43  tag_missing                 12101 non-null  int64  \n",
      "dtypes: bool(1), float64(3), int64(35), object(5)\n",
      "memory usage: 4.0+ MB\n"
     ]
    }
   ],
   "source": [
    "df.info()"
   ]
  },
  {
   "cell_type": "code",
   "execution_count": 18,
   "id": "f90e3e62-57af-4b10-afd5-fb68135cde75",
   "metadata": {},
   "outputs": [
    {
     "data": {
      "text/html": [
       "<div>\n",
       "<style scoped>\n",
       "    .dataframe tbody tr th:only-of-type {\n",
       "        vertical-align: middle;\n",
       "    }\n",
       "\n",
       "    .dataframe tbody tr th {\n",
       "        vertical-align: top;\n",
       "    }\n",
       "\n",
       "    .dataframe thead th {\n",
       "        text-align: right;\n",
       "    }\n",
       "</style>\n",
       "<table border=\"1\" class=\"dataframe\">\n",
       "  <thead>\n",
       "    <tr style=\"text-align: right;\">\n",
       "      <th></th>\n",
       "      <th>count</th>\n",
       "      <th>mean</th>\n",
       "      <th>std</th>\n",
       "      <th>min</th>\n",
       "      <th>25%</th>\n",
       "      <th>50%</th>\n",
       "      <th>75%</th>\n",
       "      <th>max</th>\n",
       "    </tr>\n",
       "  </thead>\n",
       "  <tbody>\n",
       "    <tr>\n",
       "      <th>eps</th>\n",
       "      <td>12101.0</td>\n",
       "      <td>13.393356</td>\n",
       "      <td>57.925097</td>\n",
       "      <td>1.000</td>\n",
       "      <td>1.000</td>\n",
       "      <td>2.000</td>\n",
       "      <td>12.000</td>\n",
       "      <td>2527.000</td>\n",
       "    </tr>\n",
       "    <tr>\n",
       "      <th>duration</th>\n",
       "      <td>7465.0</td>\n",
       "      <td>24.230141</td>\n",
       "      <td>31.468171</td>\n",
       "      <td>1.000</td>\n",
       "      <td>4.000</td>\n",
       "      <td>8.000</td>\n",
       "      <td>30.000</td>\n",
       "      <td>163.000</td>\n",
       "    </tr>\n",
       "    <tr>\n",
       "      <th>years_running</th>\n",
       "      <td>12101.0</td>\n",
       "      <td>0.283200</td>\n",
       "      <td>1.152234</td>\n",
       "      <td>0.000</td>\n",
       "      <td>0.000</td>\n",
       "      <td>0.000</td>\n",
       "      <td>0.000</td>\n",
       "      <td>51.000</td>\n",
       "    </tr>\n",
       "    <tr>\n",
       "      <th>studios_colab</th>\n",
       "      <td>12101.0</td>\n",
       "      <td>0.051649</td>\n",
       "      <td>0.221326</td>\n",
       "      <td>0.000</td>\n",
       "      <td>0.000</td>\n",
       "      <td>0.000</td>\n",
       "      <td>0.000</td>\n",
       "      <td>1.000</td>\n",
       "    </tr>\n",
       "    <tr>\n",
       "      <th>contentWarn</th>\n",
       "      <td>12101.0</td>\n",
       "      <td>0.115362</td>\n",
       "      <td>0.319472</td>\n",
       "      <td>0.000</td>\n",
       "      <td>0.000</td>\n",
       "      <td>0.000</td>\n",
       "      <td>0.000</td>\n",
       "      <td>1.000</td>\n",
       "    </tr>\n",
       "    <tr>\n",
       "      <th>watched</th>\n",
       "      <td>12101.0</td>\n",
       "      <td>2862.605694</td>\n",
       "      <td>7724.347024</td>\n",
       "      <td>0.000</td>\n",
       "      <td>55.000</td>\n",
       "      <td>341.000</td>\n",
       "      <td>2026.000</td>\n",
       "      <td>161567.000</td>\n",
       "    </tr>\n",
       "    <tr>\n",
       "      <th>watching</th>\n",
       "      <td>12101.0</td>\n",
       "      <td>256.334435</td>\n",
       "      <td>1380.840902</td>\n",
       "      <td>0.000</td>\n",
       "      <td>2.000</td>\n",
       "      <td>14.000</td>\n",
       "      <td>100.000</td>\n",
       "      <td>74537.000</td>\n",
       "    </tr>\n",
       "    <tr>\n",
       "      <th>wantWatch</th>\n",
       "      <td>12101.0</td>\n",
       "      <td>1203.681431</td>\n",
       "      <td>2294.327380</td>\n",
       "      <td>0.000</td>\n",
       "      <td>49.000</td>\n",
       "      <td>296.000</td>\n",
       "      <td>1275.000</td>\n",
       "      <td>28541.000</td>\n",
       "    </tr>\n",
       "    <tr>\n",
       "      <th>dropped</th>\n",
       "      <td>12101.0</td>\n",
       "      <td>151.568383</td>\n",
       "      <td>493.931710</td>\n",
       "      <td>0.000</td>\n",
       "      <td>3.000</td>\n",
       "      <td>12.000</td>\n",
       "      <td>65.000</td>\n",
       "      <td>19481.000</td>\n",
       "    </tr>\n",
       "    <tr>\n",
       "      <th>rating</th>\n",
       "      <td>12101.0</td>\n",
       "      <td>2.949037</td>\n",
       "      <td>0.827385</td>\n",
       "      <td>0.844</td>\n",
       "      <td>2.304</td>\n",
       "      <td>2.965</td>\n",
       "      <td>3.616</td>\n",
       "      <td>4.702</td>\n",
       "    </tr>\n",
       "    <tr>\n",
       "      <th>votes</th>\n",
       "      <td>12101.0</td>\n",
       "      <td>2088.124700</td>\n",
       "      <td>5950.332228</td>\n",
       "      <td>10.000</td>\n",
       "      <td>34.000</td>\n",
       "      <td>219.000</td>\n",
       "      <td>1414.000</td>\n",
       "      <td>131067.000</td>\n",
       "    </tr>\n",
       "    <tr>\n",
       "      <th>tag_Based_on_a_Manga</th>\n",
       "      <td>12101.0</td>\n",
       "      <td>0.290802</td>\n",
       "      <td>0.454151</td>\n",
       "      <td>0.000</td>\n",
       "      <td>0.000</td>\n",
       "      <td>0.000</td>\n",
       "      <td>1.000</td>\n",
       "      <td>1.000</td>\n",
       "    </tr>\n",
       "    <tr>\n",
       "      <th>tag_Comedy</th>\n",
       "      <td>12101.0</td>\n",
       "      <td>0.272870</td>\n",
       "      <td>0.445453</td>\n",
       "      <td>0.000</td>\n",
       "      <td>0.000</td>\n",
       "      <td>0.000</td>\n",
       "      <td>1.000</td>\n",
       "      <td>1.000</td>\n",
       "    </tr>\n",
       "    <tr>\n",
       "      <th>tag_Action</th>\n",
       "      <td>12101.0</td>\n",
       "      <td>0.231221</td>\n",
       "      <td>0.421631</td>\n",
       "      <td>0.000</td>\n",
       "      <td>0.000</td>\n",
       "      <td>0.000</td>\n",
       "      <td>0.000</td>\n",
       "      <td>1.000</td>\n",
       "    </tr>\n",
       "    <tr>\n",
       "      <th>tag_Fantasy</th>\n",
       "      <td>12101.0</td>\n",
       "      <td>0.181555</td>\n",
       "      <td>0.385493</td>\n",
       "      <td>0.000</td>\n",
       "      <td>0.000</td>\n",
       "      <td>0.000</td>\n",
       "      <td>0.000</td>\n",
       "      <td>1.000</td>\n",
       "    </tr>\n",
       "    <tr>\n",
       "      <th>tag_Sci_Fi</th>\n",
       "      <td>12101.0</td>\n",
       "      <td>0.166267</td>\n",
       "      <td>0.372336</td>\n",
       "      <td>0.000</td>\n",
       "      <td>0.000</td>\n",
       "      <td>0.000</td>\n",
       "      <td>0.000</td>\n",
       "      <td>1.000</td>\n",
       "    </tr>\n",
       "    <tr>\n",
       "      <th>tag_Shounen</th>\n",
       "      <td>12101.0</td>\n",
       "      <td>0.144864</td>\n",
       "      <td>0.351978</td>\n",
       "      <td>0.000</td>\n",
       "      <td>0.000</td>\n",
       "      <td>0.000</td>\n",
       "      <td>0.000</td>\n",
       "      <td>1.000</td>\n",
       "    </tr>\n",
       "    <tr>\n",
       "      <th>tag_Original_Work</th>\n",
       "      <td>12101.0</td>\n",
       "      <td>0.135195</td>\n",
       "      <td>0.341946</td>\n",
       "      <td>0.000</td>\n",
       "      <td>0.000</td>\n",
       "      <td>0.000</td>\n",
       "      <td>0.000</td>\n",
       "      <td>1.000</td>\n",
       "    </tr>\n",
       "    <tr>\n",
       "      <th>tag_Non_Human_Protagonists</th>\n",
       "      <td>12101.0</td>\n",
       "      <td>0.112470</td>\n",
       "      <td>0.315957</td>\n",
       "      <td>0.000</td>\n",
       "      <td>0.000</td>\n",
       "      <td>0.000</td>\n",
       "      <td>0.000</td>\n",
       "      <td>1.000</td>\n",
       "    </tr>\n",
       "    <tr>\n",
       "      <th>tag_Drama</th>\n",
       "      <td>12101.0</td>\n",
       "      <td>0.106107</td>\n",
       "      <td>0.307987</td>\n",
       "      <td>0.000</td>\n",
       "      <td>0.000</td>\n",
       "      <td>0.000</td>\n",
       "      <td>0.000</td>\n",
       "      <td>1.000</td>\n",
       "    </tr>\n",
       "    <tr>\n",
       "      <th>tag_Adventure</th>\n",
       "      <td>12101.0</td>\n",
       "      <td>0.103793</td>\n",
       "      <td>0.305005</td>\n",
       "      <td>0.000</td>\n",
       "      <td>0.000</td>\n",
       "      <td>0.000</td>\n",
       "      <td>0.000</td>\n",
       "      <td>1.000</td>\n",
       "    </tr>\n",
       "    <tr>\n",
       "      <th>tag_Family_Friendly</th>\n",
       "      <td>12101.0</td>\n",
       "      <td>0.097017</td>\n",
       "      <td>0.295993</td>\n",
       "      <td>0.000</td>\n",
       "      <td>0.000</td>\n",
       "      <td>0.000</td>\n",
       "      <td>0.000</td>\n",
       "      <td>1.000</td>\n",
       "    </tr>\n",
       "    <tr>\n",
       "      <th>tag_Short_Episodes</th>\n",
       "      <td>12101.0</td>\n",
       "      <td>0.096934</td>\n",
       "      <td>0.295880</td>\n",
       "      <td>0.000</td>\n",
       "      <td>0.000</td>\n",
       "      <td>0.000</td>\n",
       "      <td>0.000</td>\n",
       "      <td>1.000</td>\n",
       "    </tr>\n",
       "    <tr>\n",
       "      <th>tag_School_Life</th>\n",
       "      <td>12101.0</td>\n",
       "      <td>0.092306</td>\n",
       "      <td>0.289470</td>\n",
       "      <td>0.000</td>\n",
       "      <td>0.000</td>\n",
       "      <td>0.000</td>\n",
       "      <td>0.000</td>\n",
       "      <td>1.000</td>\n",
       "    </tr>\n",
       "    <tr>\n",
       "      <th>tag_Romance</th>\n",
       "      <td>12101.0</td>\n",
       "      <td>0.092141</td>\n",
       "      <td>0.289237</td>\n",
       "      <td>0.000</td>\n",
       "      <td>0.000</td>\n",
       "      <td>0.000</td>\n",
       "      <td>0.000</td>\n",
       "      <td>1.000</td>\n",
       "    </tr>\n",
       "    <tr>\n",
       "      <th>tag_Shorts</th>\n",
       "      <td>12101.0</td>\n",
       "      <td>0.089662</td>\n",
       "      <td>0.285709</td>\n",
       "      <td>0.000</td>\n",
       "      <td>0.000</td>\n",
       "      <td>0.000</td>\n",
       "      <td>0.000</td>\n",
       "      <td>1.000</td>\n",
       "    </tr>\n",
       "    <tr>\n",
       "      <th>tag_Slice_of_Life</th>\n",
       "      <td>12101.0</td>\n",
       "      <td>0.080820</td>\n",
       "      <td>0.272569</td>\n",
       "      <td>0.000</td>\n",
       "      <td>0.000</td>\n",
       "      <td>0.000</td>\n",
       "      <td>0.000</td>\n",
       "      <td>1.000</td>\n",
       "    </tr>\n",
       "    <tr>\n",
       "      <th>tag_Seinen</th>\n",
       "      <td>12101.0</td>\n",
       "      <td>0.077101</td>\n",
       "      <td>0.266763</td>\n",
       "      <td>0.000</td>\n",
       "      <td>0.000</td>\n",
       "      <td>0.000</td>\n",
       "      <td>0.000</td>\n",
       "      <td>1.000</td>\n",
       "    </tr>\n",
       "    <tr>\n",
       "      <th>tag_Supernatural</th>\n",
       "      <td>12101.0</td>\n",
       "      <td>0.070903</td>\n",
       "      <td>0.256674</td>\n",
       "      <td>0.000</td>\n",
       "      <td>0.000</td>\n",
       "      <td>0.000</td>\n",
       "      <td>0.000</td>\n",
       "      <td>1.000</td>\n",
       "    </tr>\n",
       "    <tr>\n",
       "      <th>tag_Magic</th>\n",
       "      <td>12101.0</td>\n",
       "      <td>0.064292</td>\n",
       "      <td>0.245283</td>\n",
       "      <td>0.000</td>\n",
       "      <td>0.000</td>\n",
       "      <td>0.000</td>\n",
       "      <td>0.000</td>\n",
       "      <td>1.000</td>\n",
       "    </tr>\n",
       "    <tr>\n",
       "      <th>tag_Animal_Protagonists</th>\n",
       "      <td>12101.0</td>\n",
       "      <td>0.060326</td>\n",
       "      <td>0.238099</td>\n",
       "      <td>0.000</td>\n",
       "      <td>0.000</td>\n",
       "      <td>0.000</td>\n",
       "      <td>0.000</td>\n",
       "      <td>1.000</td>\n",
       "    </tr>\n",
       "    <tr>\n",
       "      <th>tag_Ecchi</th>\n",
       "      <td>12101.0</td>\n",
       "      <td>0.057433</td>\n",
       "      <td>0.232678</td>\n",
       "      <td>0.000</td>\n",
       "      <td>0.000</td>\n",
       "      <td>0.000</td>\n",
       "      <td>0.000</td>\n",
       "      <td>1.000</td>\n",
       "    </tr>\n",
       "    <tr>\n",
       "      <th>tag_Mecha</th>\n",
       "      <td>12101.0</td>\n",
       "      <td>0.054541</td>\n",
       "      <td>0.227091</td>\n",
       "      <td>0.000</td>\n",
       "      <td>0.000</td>\n",
       "      <td>0.000</td>\n",
       "      <td>0.000</td>\n",
       "      <td>1.000</td>\n",
       "    </tr>\n",
       "    <tr>\n",
       "      <th>tag_Based_on_a_Light_Novel</th>\n",
       "      <td>12101.0</td>\n",
       "      <td>0.053384</td>\n",
       "      <td>0.224807</td>\n",
       "      <td>0.000</td>\n",
       "      <td>0.000</td>\n",
       "      <td>0.000</td>\n",
       "      <td>0.000</td>\n",
       "      <td>1.000</td>\n",
       "    </tr>\n",
       "    <tr>\n",
       "      <th>tag_CG_Animation</th>\n",
       "      <td>12101.0</td>\n",
       "      <td>0.050079</td>\n",
       "      <td>0.218116</td>\n",
       "      <td>0.000</td>\n",
       "      <td>0.000</td>\n",
       "      <td>0.000</td>\n",
       "      <td>0.000</td>\n",
       "      <td>1.000</td>\n",
       "    </tr>\n",
       "    <tr>\n",
       "      <th>tag_Superpowers</th>\n",
       "      <td>12101.0</td>\n",
       "      <td>0.044624</td>\n",
       "      <td>0.206486</td>\n",
       "      <td>0.000</td>\n",
       "      <td>0.000</td>\n",
       "      <td>0.000</td>\n",
       "      <td>0.000</td>\n",
       "      <td>1.000</td>\n",
       "    </tr>\n",
       "    <tr>\n",
       "      <th>tag_Others</th>\n",
       "      <td>12101.0</td>\n",
       "      <td>0.090654</td>\n",
       "      <td>0.287128</td>\n",
       "      <td>0.000</td>\n",
       "      <td>0.000</td>\n",
       "      <td>0.000</td>\n",
       "      <td>0.000</td>\n",
       "      <td>1.000</td>\n",
       "    </tr>\n",
       "    <tr>\n",
       "      <th>tag_missing</th>\n",
       "      <td>12101.0</td>\n",
       "      <td>0.025866</td>\n",
       "      <td>0.158741</td>\n",
       "      <td>0.000</td>\n",
       "      <td>0.000</td>\n",
       "      <td>0.000</td>\n",
       "      <td>0.000</td>\n",
       "      <td>1.000</td>\n",
       "    </tr>\n",
       "  </tbody>\n",
       "</table>\n",
       "</div>"
      ],
      "text/plain": [
       "                              count         mean          std     min     25%  \\\n",
       "eps                         12101.0    13.393356    57.925097   1.000   1.000   \n",
       "duration                     7465.0    24.230141    31.468171   1.000   4.000   \n",
       "years_running               12101.0     0.283200     1.152234   0.000   0.000   \n",
       "studios_colab               12101.0     0.051649     0.221326   0.000   0.000   \n",
       "contentWarn                 12101.0     0.115362     0.319472   0.000   0.000   \n",
       "watched                     12101.0  2862.605694  7724.347024   0.000  55.000   \n",
       "watching                    12101.0   256.334435  1380.840902   0.000   2.000   \n",
       "wantWatch                   12101.0  1203.681431  2294.327380   0.000  49.000   \n",
       "dropped                     12101.0   151.568383   493.931710   0.000   3.000   \n",
       "rating                      12101.0     2.949037     0.827385   0.844   2.304   \n",
       "votes                       12101.0  2088.124700  5950.332228  10.000  34.000   \n",
       "tag_Based_on_a_Manga        12101.0     0.290802     0.454151   0.000   0.000   \n",
       "tag_Comedy                  12101.0     0.272870     0.445453   0.000   0.000   \n",
       "tag_Action                  12101.0     0.231221     0.421631   0.000   0.000   \n",
       "tag_Fantasy                 12101.0     0.181555     0.385493   0.000   0.000   \n",
       "tag_Sci_Fi                  12101.0     0.166267     0.372336   0.000   0.000   \n",
       "tag_Shounen                 12101.0     0.144864     0.351978   0.000   0.000   \n",
       "tag_Original_Work           12101.0     0.135195     0.341946   0.000   0.000   \n",
       "tag_Non_Human_Protagonists  12101.0     0.112470     0.315957   0.000   0.000   \n",
       "tag_Drama                   12101.0     0.106107     0.307987   0.000   0.000   \n",
       "tag_Adventure               12101.0     0.103793     0.305005   0.000   0.000   \n",
       "tag_Family_Friendly         12101.0     0.097017     0.295993   0.000   0.000   \n",
       "tag_Short_Episodes          12101.0     0.096934     0.295880   0.000   0.000   \n",
       "tag_School_Life             12101.0     0.092306     0.289470   0.000   0.000   \n",
       "tag_Romance                 12101.0     0.092141     0.289237   0.000   0.000   \n",
       "tag_Shorts                  12101.0     0.089662     0.285709   0.000   0.000   \n",
       "tag_Slice_of_Life           12101.0     0.080820     0.272569   0.000   0.000   \n",
       "tag_Seinen                  12101.0     0.077101     0.266763   0.000   0.000   \n",
       "tag_Supernatural            12101.0     0.070903     0.256674   0.000   0.000   \n",
       "tag_Magic                   12101.0     0.064292     0.245283   0.000   0.000   \n",
       "tag_Animal_Protagonists     12101.0     0.060326     0.238099   0.000   0.000   \n",
       "tag_Ecchi                   12101.0     0.057433     0.232678   0.000   0.000   \n",
       "tag_Mecha                   12101.0     0.054541     0.227091   0.000   0.000   \n",
       "tag_Based_on_a_Light_Novel  12101.0     0.053384     0.224807   0.000   0.000   \n",
       "tag_CG_Animation            12101.0     0.050079     0.218116   0.000   0.000   \n",
       "tag_Superpowers             12101.0     0.044624     0.206486   0.000   0.000   \n",
       "tag_Others                  12101.0     0.090654     0.287128   0.000   0.000   \n",
       "tag_missing                 12101.0     0.025866     0.158741   0.000   0.000   \n",
       "\n",
       "                                50%       75%         max  \n",
       "eps                           2.000    12.000    2527.000  \n",
       "duration                      8.000    30.000     163.000  \n",
       "years_running                 0.000     0.000      51.000  \n",
       "studios_colab                 0.000     0.000       1.000  \n",
       "contentWarn                   0.000     0.000       1.000  \n",
       "watched                     341.000  2026.000  161567.000  \n",
       "watching                     14.000   100.000   74537.000  \n",
       "wantWatch                   296.000  1275.000   28541.000  \n",
       "dropped                      12.000    65.000   19481.000  \n",
       "rating                        2.965     3.616       4.702  \n",
       "votes                       219.000  1414.000  131067.000  \n",
       "tag_Based_on_a_Manga          0.000     1.000       1.000  \n",
       "tag_Comedy                    0.000     1.000       1.000  \n",
       "tag_Action                    0.000     0.000       1.000  \n",
       "tag_Fantasy                   0.000     0.000       1.000  \n",
       "tag_Sci_Fi                    0.000     0.000       1.000  \n",
       "tag_Shounen                   0.000     0.000       1.000  \n",
       "tag_Original_Work             0.000     0.000       1.000  \n",
       "tag_Non_Human_Protagonists    0.000     0.000       1.000  \n",
       "tag_Drama                     0.000     0.000       1.000  \n",
       "tag_Adventure                 0.000     0.000       1.000  \n",
       "tag_Family_Friendly           0.000     0.000       1.000  \n",
       "tag_Short_Episodes            0.000     0.000       1.000  \n",
       "tag_School_Life               0.000     0.000       1.000  \n",
       "tag_Romance                   0.000     0.000       1.000  \n",
       "tag_Shorts                    0.000     0.000       1.000  \n",
       "tag_Slice_of_Life             0.000     0.000       1.000  \n",
       "tag_Seinen                    0.000     0.000       1.000  \n",
       "tag_Supernatural              0.000     0.000       1.000  \n",
       "tag_Magic                     0.000     0.000       1.000  \n",
       "tag_Animal_Protagonists       0.000     0.000       1.000  \n",
       "tag_Ecchi                     0.000     0.000       1.000  \n",
       "tag_Mecha                     0.000     0.000       1.000  \n",
       "tag_Based_on_a_Light_Novel    0.000     0.000       1.000  \n",
       "tag_CG_Animation              0.000     0.000       1.000  \n",
       "tag_Superpowers               0.000     0.000       1.000  \n",
       "tag_Others                    0.000     0.000       1.000  \n",
       "tag_missing                   0.000     0.000       1.000  "
      ]
     },
     "execution_count": 18,
     "metadata": {},
     "output_type": "execute_result"
    }
   ],
   "source": [
    "df.describe().T"
   ]
  },
  {
   "cell_type": "code",
   "execution_count": 19,
   "id": "9325e3e5-50ac-4d8e-b2bd-9b38efb952f6",
   "metadata": {},
   "outputs": [],
   "source": [
    "df.drop(columns=['title','description'],axis=1,inplace=True)"
   ]
  },
  {
   "cell_type": "code",
   "execution_count": 20,
   "id": "abf79e13-47a9-4ec7-b4da-75f796cb02e8",
   "metadata": {},
   "outputs": [
    {
     "data": {
      "text/html": [
       "<div>\n",
       "<style scoped>\n",
       "    .dataframe tbody tr th:only-of-type {\n",
       "        vertical-align: middle;\n",
       "    }\n",
       "\n",
       "    .dataframe tbody tr th {\n",
       "        vertical-align: top;\n",
       "    }\n",
       "\n",
       "    .dataframe thead th {\n",
       "        text-align: right;\n",
       "    }\n",
       "</style>\n",
       "<table border=\"1\" class=\"dataframe\">\n",
       "  <thead>\n",
       "    <tr style=\"text-align: right;\">\n",
       "      <th></th>\n",
       "      <th>mediaType</th>\n",
       "      <th>eps</th>\n",
       "      <th>duration</th>\n",
       "      <th>ongoing</th>\n",
       "      <th>sznOfRelease</th>\n",
       "      <th>years_running</th>\n",
       "      <th>studio_primary</th>\n",
       "      <th>studios_colab</th>\n",
       "      <th>contentWarn</th>\n",
       "      <th>watched</th>\n",
       "      <th>...</th>\n",
       "      <th>tag_Supernatural</th>\n",
       "      <th>tag_Magic</th>\n",
       "      <th>tag_Animal_Protagonists</th>\n",
       "      <th>tag_Ecchi</th>\n",
       "      <th>tag_Mecha</th>\n",
       "      <th>tag_Based_on_a_Light_Novel</th>\n",
       "      <th>tag_CG_Animation</th>\n",
       "      <th>tag_Superpowers</th>\n",
       "      <th>tag_Others</th>\n",
       "      <th>tag_missing</th>\n",
       "    </tr>\n",
       "  </thead>\n",
       "  <tbody>\n",
       "    <tr>\n",
       "      <th>0</th>\n",
       "      <td>TV</td>\n",
       "      <td>64</td>\n",
       "      <td>NaN</td>\n",
       "      <td>False</td>\n",
       "      <td>Spring</td>\n",
       "      <td>1</td>\n",
       "      <td>Bones</td>\n",
       "      <td>0</td>\n",
       "      <td>1</td>\n",
       "      <td>103707.0</td>\n",
       "      <td>...</td>\n",
       "      <td>0</td>\n",
       "      <td>0</td>\n",
       "      <td>0</td>\n",
       "      <td>0</td>\n",
       "      <td>0</td>\n",
       "      <td>0</td>\n",
       "      <td>0</td>\n",
       "      <td>0</td>\n",
       "      <td>0</td>\n",
       "      <td>0</td>\n",
       "    </tr>\n",
       "    <tr>\n",
       "      <th>1</th>\n",
       "      <td>Movie</td>\n",
       "      <td>1</td>\n",
       "      <td>107.0</td>\n",
       "      <td>False</td>\n",
       "      <td>is_missing</td>\n",
       "      <td>0</td>\n",
       "      <td>Others</td>\n",
       "      <td>0</td>\n",
       "      <td>0</td>\n",
       "      <td>58831.0</td>\n",
       "      <td>...</td>\n",
       "      <td>1</td>\n",
       "      <td>0</td>\n",
       "      <td>0</td>\n",
       "      <td>0</td>\n",
       "      <td>0</td>\n",
       "      <td>0</td>\n",
       "      <td>0</td>\n",
       "      <td>0</td>\n",
       "      <td>0</td>\n",
       "      <td>0</td>\n",
       "    </tr>\n",
       "    <tr>\n",
       "      <th>2</th>\n",
       "      <td>Movie</td>\n",
       "      <td>1</td>\n",
       "      <td>130.0</td>\n",
       "      <td>False</td>\n",
       "      <td>is_missing</td>\n",
       "      <td>0</td>\n",
       "      <td>Kyoto Animation</td>\n",
       "      <td>0</td>\n",
       "      <td>1</td>\n",
       "      <td>45892.0</td>\n",
       "      <td>...</td>\n",
       "      <td>0</td>\n",
       "      <td>0</td>\n",
       "      <td>0</td>\n",
       "      <td>0</td>\n",
       "      <td>0</td>\n",
       "      <td>0</td>\n",
       "      <td>0</td>\n",
       "      <td>0</td>\n",
       "      <td>0</td>\n",
       "      <td>0</td>\n",
       "    </tr>\n",
       "    <tr>\n",
       "      <th>3</th>\n",
       "      <td>TV</td>\n",
       "      <td>10</td>\n",
       "      <td>NaN</td>\n",
       "      <td>False</td>\n",
       "      <td>Fall</td>\n",
       "      <td>0</td>\n",
       "      <td>Production I.G</td>\n",
       "      <td>0</td>\n",
       "      <td>0</td>\n",
       "      <td>25134.0</td>\n",
       "      <td>...</td>\n",
       "      <td>0</td>\n",
       "      <td>0</td>\n",
       "      <td>0</td>\n",
       "      <td>0</td>\n",
       "      <td>0</td>\n",
       "      <td>0</td>\n",
       "      <td>0</td>\n",
       "      <td>0</td>\n",
       "      <td>0</td>\n",
       "      <td>0</td>\n",
       "    </tr>\n",
       "    <tr>\n",
       "      <th>4</th>\n",
       "      <td>TV</td>\n",
       "      <td>10</td>\n",
       "      <td>NaN</td>\n",
       "      <td>False</td>\n",
       "      <td>Spring</td>\n",
       "      <td>0</td>\n",
       "      <td>Others</td>\n",
       "      <td>0</td>\n",
       "      <td>1</td>\n",
       "      <td>21308.0</td>\n",
       "      <td>...</td>\n",
       "      <td>0</td>\n",
       "      <td>0</td>\n",
       "      <td>0</td>\n",
       "      <td>0</td>\n",
       "      <td>0</td>\n",
       "      <td>0</td>\n",
       "      <td>0</td>\n",
       "      <td>0</td>\n",
       "      <td>0</td>\n",
       "      <td>0</td>\n",
       "    </tr>\n",
       "  </tbody>\n",
       "</table>\n",
       "<p>5 rows × 42 columns</p>\n",
       "</div>"
      ],
      "text/plain": [
       "  mediaType  eps  duration  ongoing sznOfRelease  years_running  \\\n",
       "0        TV   64       NaN    False       Spring              1   \n",
       "1     Movie    1     107.0    False   is_missing              0   \n",
       "2     Movie    1     130.0    False   is_missing              0   \n",
       "3        TV   10       NaN    False         Fall              0   \n",
       "4        TV   10       NaN    False       Spring              0   \n",
       "\n",
       "    studio_primary  studios_colab  contentWarn   watched  ...  \\\n",
       "0            Bones              0            1  103707.0  ...   \n",
       "1           Others              0            0   58831.0  ...   \n",
       "2  Kyoto Animation              0            1   45892.0  ...   \n",
       "3   Production I.G              0            0   25134.0  ...   \n",
       "4           Others              0            1   21308.0  ...   \n",
       "\n",
       "   tag_Supernatural  tag_Magic  tag_Animal_Protagonists  tag_Ecchi  tag_Mecha  \\\n",
       "0                 0          0                        0          0          0   \n",
       "1                 1          0                        0          0          0   \n",
       "2                 0          0                        0          0          0   \n",
       "3                 0          0                        0          0          0   \n",
       "4                 0          0                        0          0          0   \n",
       "\n",
       "   tag_Based_on_a_Light_Novel  tag_CG_Animation  tag_Superpowers  tag_Others  \\\n",
       "0                           0                 0                0           0   \n",
       "1                           0                 0                0           0   \n",
       "2                           0                 0                0           0   \n",
       "3                           0                 0                0           0   \n",
       "4                           0                 0                0           0   \n",
       "\n",
       "   tag_missing  \n",
       "0            0  \n",
       "1            0  \n",
       "2            0  \n",
       "3            0  \n",
       "4            0  \n",
       "\n",
       "[5 rows x 42 columns]"
      ]
     },
     "execution_count": 20,
     "metadata": {},
     "output_type": "execute_result"
    }
   ],
   "source": [
    "df.head()"
   ]
  },
  {
   "cell_type": "code",
   "execution_count": 21,
   "id": "281de131-aeaa-4bb1-9129-8d17910ca427",
   "metadata": {},
   "outputs": [
    {
     "data": {
      "text/plain": [
       "count    12101.000000\n",
       "mean         2.949037\n",
       "std          0.827385\n",
       "min          0.844000\n",
       "25%          2.304000\n",
       "50%          2.965000\n",
       "75%          3.616000\n",
       "max          4.702000\n",
       "Name: rating, dtype: float64"
      ]
     },
     "execution_count": 21,
     "metadata": {},
     "output_type": "execute_result"
    }
   ],
   "source": [
    "df.rating.describe()"
   ]
  },
  {
   "cell_type": "code",
   "execution_count": 22,
   "id": "fa356872-431a-439c-817b-414a85a4423a",
   "metadata": {},
   "outputs": [
    {
     "data": {
      "text/plain": [
       "(7465, 42)"
      ]
     },
     "execution_count": 22,
     "metadata": {},
     "output_type": "execute_result"
    }
   ],
   "source": [
    "df.dropna(inplace=True)\n",
    "df.shape"
   ]
  },
  {
   "cell_type": "code",
   "execution_count": 23,
   "id": "91c1b8eb-7f04-4cc7-8220-1d9780a33f5c",
   "metadata": {},
   "outputs": [
    {
     "data": {
      "text/plain": [
       "4535"
      ]
     },
     "execution_count": 23,
     "metadata": {},
     "output_type": "execute_result"
    }
   ],
   "source": [
    "12000-7465"
   ]
  },
  {
   "cell_type": "code",
   "execution_count": 24,
   "id": "b873e7c4-962c-43e3-bb7b-b8194e3acb09",
   "metadata": {},
   "outputs": [],
   "source": [
    "def continuous_univariate_analysis(data, feature, figsize=(12, 2), kde=False, bins=None):\n",
    "    # Create subplots with shared x-axis\n",
    "    f1, (ax_box, ax_hist) = plt.subplots(\n",
    "        nrows=2,\n",
    "        sharex=True,\n",
    "        gridspec_kw={\"height_ratios\": (0.25, 0.75)},\n",
    "        figsize=figsize\n",
    "    )\n",
    "    \n",
    "    # Set color palette\n",
    "    sns.color_palette(\"viridis\", as_cmap=True)\n",
    "    \n",
    "    # Create a box plot\n",
    "    sns.boxplot(data=data, x=feature, ax=ax_box, showmeans=True, color=\"yellow\")\n",
    "    \n",
    "    # Create a histogram\n",
    "    if bins:\n",
    "        sns.histplot(data=data, x=feature, ax=ax_hist, showmeans=True, color=\"crest\", bins=bins, kde=kde)\n",
    "    else:\n",
    "        sns.histplot(data=data, x=feature, ax=ax_hist, kde=kde, color=\"blue\")\n",
    "    \n",
    "    # Add vertical lines for mean and median\n",
    "    ax_hist.axvline(data[feature].mean(), color='cyan', linestyle='--')\n",
    "    ax_hist.axvline(data[feature].median(), color='orange', linestyle='--')"
   ]
  },
  {
   "cell_type": "code",
   "execution_count": 25,
   "id": "eeb04c22-9a51-4514-ab6d-68f01b5ad340",
   "metadata": {},
   "outputs": [],
   "source": [
    "def discrete_univariate_analysis(data, feature, perc=False, n=None):\n",
    "    total = len(data[feature])\n",
    "    count = data[feature].nunique()\n",
    "\n",
    "    if n is None:\n",
    "        plt.figure(figsize=(count + 1, 5))\n",
    "    else:\n",
    "        plt.figure(figsize=(n + 1, 5))\n",
    "    \n",
    "    plt.xticks(rotation=90, fontsize=15)\n",
    "    \n",
    "    ax = sns.countplot(\n",
    "        data=data,\n",
    "        x=feature,\n",
    "        palette=\"flare\",\n",
    "        order=data[feature].value_counts().index[:n].sort_values(ascending=False)\n",
    "    )\n",
    "    \n",
    "    for p in ax.patches:\n",
    "        if perc:\n",
    "            label = \"{:.1f}%\".format(100 * p.get_height() / total)\n",
    "        else:\n",
    "            label = p.get_height()\n",
    "            \n",
    "        x = p.get_x() + p.get_width() / 2\n",
    "        y = p.get_height()\n",
    "        \n",
    "        ax.annotate(\n",
    "            label,\n",
    "            (x, y),\n",
    "            ha=\"center\",\n",
    "            va=\"center\",\n",
    "            size=12,\n",
    "            xytext=(0, 5),\n",
    "            textcoords=\"offset points\"\n",
    "        )\n",
    "    \n",
    "    plt.show()"
   ]
  },
  {
   "cell_type": "code",
   "execution_count": 26,
   "id": "1ce5f86d-ee31-4da5-a919-7b4265f85685",
   "metadata": {},
   "outputs": [
    {
     "data": {
      "text/plain": [
       "Index(['mediaType', 'eps', 'duration', 'ongoing', 'sznOfRelease',\n",
       "       'years_running', 'studio_primary', 'studios_colab', 'contentWarn',\n",
       "       'watched', 'watching', 'wantWatch', 'dropped', 'rating', 'votes',\n",
       "       'tag_Based_on_a_Manga', 'tag_Comedy', 'tag_Action', 'tag_Fantasy',\n",
       "       'tag_Sci_Fi', 'tag_Shounen', 'tag_Original_Work',\n",
       "       'tag_Non_Human_Protagonists', 'tag_Drama', 'tag_Adventure',\n",
       "       'tag_Family_Friendly', 'tag_Short_Episodes', 'tag_School_Life',\n",
       "       'tag_Romance', 'tag_Shorts', 'tag_Slice_of_Life', 'tag_Seinen',\n",
       "       'tag_Supernatural', 'tag_Magic', 'tag_Animal_Protagonists', 'tag_Ecchi',\n",
       "       'tag_Mecha', 'tag_Based_on_a_Light_Novel', 'tag_CG_Animation',\n",
       "       'tag_Superpowers', 'tag_Others', 'tag_missing'],\n",
       "      dtype='object')"
      ]
     },
     "execution_count": 26,
     "metadata": {},
     "output_type": "execute_result"
    }
   ],
   "source": [
    "df.columns"
   ]
  },
  {
   "cell_type": "code",
   "execution_count": 27,
   "id": "540de815-6862-4006-8785-967455a754ca",
   "metadata": {},
   "outputs": [
    {
     "data": {
      "image/png": "[encoded data removed]",
      "text/plain": [
       "<Figure size 1200x200 with 2 Axes>"
      ]
     },
     "metadata": {},
     "output_type": "display_data"
    }
   ],
   "source": [
    "continuous_univariate_analysis(df,'rating')"
   ]
  },
  {
   "cell_type": "code",
   "execution_count": 28,
   "id": "01bd7f7f-02b6-4429-acce-2f4e49e452aa",
   "metadata": {},
   "outputs": [
    {
     "data": {
      "image/png": "[encoded data removed]",
      "text/plain": [
       "<Figure size 1200x200 with 2 Axes>"
      ]
     },
     "metadata": {},
     "output_type": "display_data"
    }
   ],
   "source": [
    "continuous_univariate_analysis(df,'duration')\n"
   ]
  },
  {
   "cell_type": "code",
   "execution_count": 29,
   "id": "67cc22db-c42b-4315-a4ae-cc01c9c97132",
   "metadata": {},
   "outputs": [
    {
     "data": {
      "text/plain": [
       "3.5694732254047326"
      ]
     },
     "execution_count": 29,
     "metadata": {},
     "output_type": "execute_result"
    }
   ],
   "source": [
    "df[df['duration']>=80]['rating'].mean()"
   ]
  },
  {
   "cell_type": "code",
   "execution_count": 30,
   "id": "a4060754-3280-45e7-ad20-fae5fed21fa3",
   "metadata": {},
   "outputs": [
    {
     "data": {
      "text/plain": [
       "3.729269121813031"
      ]
     },
     "execution_count": 30,
     "metadata": {},
     "output_type": "execute_result"
    }
   ],
   "source": [
    "df[df['duration']>=100]['rating'].mean()\n"
   ]
  },
  {
   "cell_type": "code",
   "execution_count": 31,
   "id": "a6bcd646-526e-4929-8dc0-53dbf58e3fa7",
   "metadata": {},
   "outputs": [
    {
     "data": {
      "text/plain": [
       "3.7585191256830606"
      ]
     },
     "execution_count": 31,
     "metadata": {},
     "output_type": "execute_result"
    }
   ],
   "source": [
    "df[df['duration']>=110]['rating'].mean()\n"
   ]
  },
  {
   "cell_type": "code",
   "execution_count": 32,
   "id": "c2685f74-6b21-40b4-8e6b-de1f3bd405e6",
   "metadata": {},
   "outputs": [
    {
     "data": {
      "text/plain": [
       "3.270219668626403"
      ]
     },
     "execution_count": 32,
     "metadata": {},
     "output_type": "execute_result"
    }
   ],
   "source": [
    "df[(df['duration']>=5) & (df['duration']>=30)]['rating'].mean()\n"
   ]
  },
  {
   "cell_type": "code",
   "execution_count": 33,
   "id": "50f555be-c656-4e17-9076-26e3bb90c095",
   "metadata": {},
   "outputs": [
    {
     "name": "stderr",
     "output_type": "stream",
     "text": [
      "C:\\Users\\LEKHRAJ\\AppData\\Local\\Temp\\ipykernel_14932\\3824104764.py:12: FutureWarning: \n",
      "\n",
      "Passing `palette` without assigning `hue` is deprecated and will be removed in v0.14.0. Assign the `x` variable to `hue` and set `legend=False` for the same effect.\n",
      "\n",
      "  ax = sns.countplot(\n"
     ]
    },
    {
     "data": {
      "image/png": "[encoded data removed]",
      "text/plain": [
       "<Figure size 300x500 with 1 Axes>"
      ]
     },
     "metadata": {},
     "output_type": "display_data"
    }
   ],
   "source": [
    "discrete_univariate_analysis(df,\"ongoing\",perc=True)"
   ]
  },
  {
   "cell_type": "code",
   "execution_count": 34,
   "id": "8f4c8f29-8222-402e-9b2d-af01174e7daf",
   "metadata": {},
   "outputs": [
    {
     "data": {
      "text/plain": [
       "3.1624600000000003"
      ]
     },
     "execution_count": 34,
     "metadata": {},
     "output_type": "execute_result"
    }
   ],
   "source": [
    "df[df['ongoing']== True]['rating'].mean()"
   ]
  },
  {
   "cell_type": "code",
   "execution_count": 35,
   "id": "fb14d871-1aa6-42c3-9721-e532204da153",
   "metadata": {},
   "outputs": [
    {
     "data": {
      "text/plain": [
       "8.94"
      ]
     },
     "execution_count": 35,
     "metadata": {},
     "output_type": "execute_result"
    }
   ],
   "source": [
    "df[df['ongoing']== True]['duration'].mean()\n"
   ]
  },
  {
   "cell_type": "code",
   "execution_count": 36,
   "id": "12719fa1-8087-4c48-8431-5398ff93e90a",
   "metadata": {},
   "outputs": [
    {
     "name": "stderr",
     "output_type": "stream",
     "text": [
      "C:\\Users\\LEKHRAJ\\AppData\\Local\\Temp\\ipykernel_14932\\3824104764.py:12: FutureWarning: \n",
      "\n",
      "Passing `palette` without assigning `hue` is deprecated and will be removed in v0.14.0. Assign the `x` variable to `hue` and set `legend=False` for the same effect.\n",
      "\n",
      "  ax = sns.countplot(\n"
     ]
    },
    {
     "data": {
      "image/png": "[encoded data removed]",
      "text/plain": [
       "<Figure size 600x500 with 1 Axes>"
      ]
     },
     "metadata": {},
     "output_type": "display_data"
    }
   ],
   "source": [
    "discrete_univariate_analysis(df,\"sznOfRelease\",perc=True)\n"
   ]
  },
  {
   "cell_type": "code",
   "execution_count": 37,
   "id": "ed2270b9-52cf-41dc-8240-e1002d2c5c84",
   "metadata": {},
   "outputs": [
    {
     "name": "stderr",
     "output_type": "stream",
     "text": [
      "C:\\Users\\LEKHRAJ\\AppData\\Local\\Temp\\ipykernel_14932\\3824104764.py:12: FutureWarning: \n",
      "\n",
      "Passing `palette` without assigning `hue` is deprecated and will be removed in v0.14.0. Assign the `x` variable to `hue` and set `legend=False` for the same effect.\n",
      "\n",
      "  ax = sns.countplot(\n"
     ]
    },
    {
     "data": {
      "image/png": "[encoded data removed]",
      "text/plain": [
       "<Figure size 2300x500 with 1 Axes>"
      ]
     },
     "metadata": {},
     "output_type": "display_data"
    }
   ],
   "source": [
    "discrete_univariate_analysis(df,\"studio_primary\",perc=True)\n"
   ]
  },
  {
   "cell_type": "code",
   "execution_count": 38,
   "id": "988cf184-7658-4360-adc6-1c303508f4e5",
   "metadata": {},
   "outputs": [
    {
     "data": {
      "text/plain": [
       "studio_primary\n",
       "Others                  38.25\n",
       "Production I.G           8.42\n",
       "is_missing               7.02\n",
       "TMS Entertainment        5.96\n",
       "MADHOUSE                 5.96\n",
       "Sunrise                  4.91\n",
       "Kyoto Animation          4.04\n",
       "Studio Deen              3.68\n",
       "Bones                    3.68\n",
       "A-1 Pictures             3.68\n",
       "Toei Animation           3.51\n",
       "Shaft                    3.33\n",
       "J.C. Staff               3.16\n",
       "Studio Pierrot           2.46\n",
       "XEBEC                    0.35\n",
       "Tatsunoko Production     0.35\n",
       "Nippon Animation         0.35\n",
       "OLM                      0.35\n",
       "Shin-Ei Animation        0.35\n",
       "GONZO                    0.18\n",
       "Name: proportion, dtype: float64"
      ]
     },
     "execution_count": 38,
     "metadata": {},
     "output_type": "execute_result"
    }
   ],
   "source": [
    "df[df['rating']>4]['studio_primary'].value_counts(normalize = True).mul(100).round(2)\n"
   ]
  },
  {
   "cell_type": "code",
   "execution_count": 39,
   "id": "c2171d04-68eb-4ea4-a447-5678b3de92ba",
   "metadata": {},
   "outputs": [
    {
     "name": "stderr",
     "output_type": "stream",
     "text": [
      "C:\\Users\\LEKHRAJ\\AppData\\Local\\Temp\\ipykernel_14932\\3824104764.py:12: FutureWarning: \n",
      "\n",
      "Passing `palette` without assigning `hue` is deprecated and will be removed in v0.14.0. Assign the `x` variable to `hue` and set `legend=False` for the same effect.\n",
      "\n",
      "  ax = sns.countplot(\n"
     ]
    },
    {
     "data": {
      "image/png": "[encoded data removed]",
      "text/plain": [
       "<Figure size 300x500 with 1 Axes>"
      ]
     },
     "metadata": {},
     "output_type": "display_data"
    }
   ],
   "source": [
    "discrete_univariate_analysis(df,\"contentWarn\",perc=True)\n"
   ]
  },
  {
   "cell_type": "code",
   "execution_count": 40,
   "id": "ee5d7749-367e-41a9-a6fa-5050d76f696a",
   "metadata": {},
   "outputs": [],
   "source": [
    "corr_cols =[item for item in df.columns if \"tag\" not in item]\n"
   ]
  },
  {
   "cell_type": "code",
   "execution_count": 41,
   "id": "ee14d5ac-e41d-4109-bccc-b9632b53d3c2",
   "metadata": {},
   "outputs": [
    {
     "data": {
      "text/plain": [
       "['mediaType',\n",
       " 'eps',\n",
       " 'duration',\n",
       " 'ongoing',\n",
       " 'sznOfRelease',\n",
       " 'years_running',\n",
       " 'studio_primary',\n",
       " 'studios_colab',\n",
       " 'contentWarn',\n",
       " 'watched',\n",
       " 'watching',\n",
       " 'wantWatch',\n",
       " 'dropped',\n",
       " 'rating',\n",
       " 'votes']"
      ]
     },
     "execution_count": 41,
     "metadata": {},
     "output_type": "execute_result"
    }
   ],
   "source": [
    "corr_cols"
   ]
  },
  {
   "cell_type": "code",
   "execution_count": 42,
   "id": "126fdfce-782f-450d-a8da-ec6675d545fd",
   "metadata": {},
   "outputs": [],
   "source": [
    "corr_cols = [col for col in corr_cols if pd.api.types.is_numeric_dtype(df[col])]\n"
   ]
  },
  {
   "cell_type": "code",
   "execution_count": 43,
   "id": "36a3ea54-c132-4e2d-9140-0513976c765c",
   "metadata": {},
   "outputs": [
    {
     "data": {
      "image/png": "[encoded data removed]",
      "text/plain": [
       "<Figure size 1600x700 with 2 Axes>"
      ]
     },
     "metadata": {},
     "output_type": "display_data"
    }
   ],
   "source": [
    "plt.figure(figsize=(16,7))\n",
    "\n",
    "sns.heatmap(df[corr_cols].corr(), annot=True, vmin=-1, vmax =1, fmt='.2f', cmap='Spectral')\n",
    "\n",
    "plt.show()"
   ]
  },
  {
   "cell_type": "code",
   "execution_count": 44,
   "id": "efb00237-1c28-4851-b0f9-6316b39e57f2",
   "metadata": {},
   "outputs": [
    {
     "data": {
      "text/plain": [
       "<Axes: xlabel='sznOfRelease', ylabel='rating'>"
      ]
     },
     "execution_count": 44,
     "metadata": {},
     "output_type": "execute_result"
    },
    {
     "data": {
      "image/png": "[encoded data removed]",
      "text/plain": [
       "<Figure size 1500x800 with 1 Axes>"
      ]
     },
     "metadata": {},
     "output_type": "display_data"
    }
   ],
   "source": [
    "plt.figure(figsize=(15,8))\n",
    "sns.boxplot(x='sznOfRelease', y='rating',data=df)"
   ]
  },
  {
   "cell_type": "markdown",
   "id": "77f57f47-7c2f-49a8-b4b7-e29b82a240ef",
   "metadata": {},
   "source": [
    "# Model Building - Regression"
   ]
  },
  {
   "cell_type": "code",
   "execution_count": 45,
   "id": "e4b7cdcd-a6dd-43d1-bdf2-1c1c8043c118",
   "metadata": {},
   "outputs": [],
   "source": [
    "x=df.drop(['rating'] ,axis=1)\n",
    "y=df['rating']"
   ]
  },
  {
   "cell_type": "code",
   "execution_count": 46,
   "id": "fac13234-1386-4744-8566-ac6fe356e440",
   "metadata": {},
   "outputs": [
    {
     "name": "stdout",
     "output_type": "stream",
     "text": [
      "<class 'pandas.core.frame.DataFrame'>\n",
      "Index: 7465 entries, 1 to 12100\n",
      "Data columns (total 41 columns):\n",
      " #   Column                      Non-Null Count  Dtype  \n",
      "---  ------                      --------------  -----  \n",
      " 0   mediaType                   7465 non-null   object \n",
      " 1   eps                         7465 non-null   int64  \n",
      " 2   duration                    7465 non-null   float64\n",
      " 3   ongoing                     7465 non-null   bool   \n",
      " 4   sznOfRelease                7465 non-null   object \n",
      " 5   years_running               7465 non-null   int64  \n",
      " 6   studio_primary              7465 non-null   object \n",
      " 7   studios_colab               7465 non-null   int64  \n",
      " 8   contentWarn                 7465 non-null   int64  \n",
      " 9   watched                     7465 non-null   float64\n",
      " 10  watching                    7465 non-null   int64  \n",
      " 11  wantWatch                   7465 non-null   int64  \n",
      " 12  dropped                     7465 non-null   int64  \n",
      " 13  votes                       7465 non-null   int64  \n",
      " 14  tag_Based_on_a_Manga        7465 non-null   int64  \n",
      " 15  tag_Comedy                  7465 non-null   int64  \n",
      " 16  tag_Action                  7465 non-null   int64  \n",
      " 17  tag_Fantasy                 7465 non-null   int64  \n",
      " 18  tag_Sci_Fi                  7465 non-null   int64  \n",
      " 19  tag_Shounen                 7465 non-null   int64  \n",
      " 20  tag_Original_Work           7465 non-null   int64  \n",
      " 21  tag_Non_Human_Protagonists  7465 non-null   int64  \n",
      " 22  tag_Drama                   7465 non-null   int64  \n",
      " 23  tag_Adventure               7465 non-null   int64  \n",
      " 24  tag_Family_Friendly         7465 non-null   int64  \n",
      " 25  tag_Short_Episodes          7465 non-null   int64  \n",
      " 26  tag_School_Life             7465 non-null   int64  \n",
      " 27  tag_Romance                 7465 non-null   int64  \n",
      " 28  tag_Shorts                  7465 non-null   int64  \n",
      " 29  tag_Slice_of_Life           7465 non-null   int64  \n",
      " 30  tag_Seinen                  7465 non-null   int64  \n",
      " 31  tag_Supernatural            7465 non-null   int64  \n",
      " 32  tag_Magic                   7465 non-null   int64  \n",
      " 33  tag_Animal_Protagonists     7465 non-null   int64  \n",
      " 34  tag_Ecchi                   7465 non-null   int64  \n",
      " 35  tag_Mecha                   7465 non-null   int64  \n",
      " 36  tag_Based_on_a_Light_Novel  7465 non-null   int64  \n",
      " 37  tag_CG_Animation            7465 non-null   int64  \n",
      " 38  tag_Superpowers             7465 non-null   int64  \n",
      " 39  tag_Others                  7465 non-null   int64  \n",
      " 40  tag_missing                 7465 non-null   int64  \n",
      "dtypes: bool(1), float64(2), int64(35), object(3)\n",
      "memory usage: 2.3+ MB\n"
     ]
    }
   ],
   "source": [
    "x.info()"
   ]
  },
  {
   "cell_type": "code",
   "execution_count": 47,
   "id": "69914774-ef2c-41ba-ad59-68f52071b314",
   "metadata": {},
   "outputs": [
    {
     "data": {
      "text/html": [
       "<div>\n",
       "<style scoped>\n",
       "    .dataframe tbody tr th:only-of-type {\n",
       "        vertical-align: middle;\n",
       "    }\n",
       "\n",
       "    .dataframe tbody tr th {\n",
       "        vertical-align: top;\n",
       "    }\n",
       "\n",
       "    .dataframe thead th {\n",
       "        text-align: right;\n",
       "    }\n",
       "</style>\n",
       "<table border=\"1\" class=\"dataframe\">\n",
       "  <thead>\n",
       "    <tr style=\"text-align: right;\">\n",
       "      <th></th>\n",
       "      <th>eps</th>\n",
       "      <th>duration</th>\n",
       "      <th>ongoing</th>\n",
       "      <th>years_running</th>\n",
       "      <th>studios_colab</th>\n",
       "      <th>contentWarn</th>\n",
       "      <th>watched</th>\n",
       "      <th>watching</th>\n",
       "      <th>wantWatch</th>\n",
       "      <th>dropped</th>\n",
       "      <th>...</th>\n",
       "      <th>studio_primary_Shaft</th>\n",
       "      <th>studio_primary_Shin-Ei Animation</th>\n",
       "      <th>studio_primary_Studio Deen</th>\n",
       "      <th>studio_primary_Studio Pierrot</th>\n",
       "      <th>studio_primary_Sunrise</th>\n",
       "      <th>studio_primary_TMS Entertainment</th>\n",
       "      <th>studio_primary_Tatsunoko Production</th>\n",
       "      <th>studio_primary_Toei Animation</th>\n",
       "      <th>studio_primary_XEBEC</th>\n",
       "      <th>studio_primary_is_missing</th>\n",
       "    </tr>\n",
       "  </thead>\n",
       "  <tbody>\n",
       "    <tr>\n",
       "      <th>1</th>\n",
       "      <td>1</td>\n",
       "      <td>107.0</td>\n",
       "      <td>False</td>\n",
       "      <td>0</td>\n",
       "      <td>0</td>\n",
       "      <td>0</td>\n",
       "      <td>58831.0</td>\n",
       "      <td>1453</td>\n",
       "      <td>21733</td>\n",
       "      <td>124</td>\n",
       "      <td>...</td>\n",
       "      <td>False</td>\n",
       "      <td>False</td>\n",
       "      <td>False</td>\n",
       "      <td>False</td>\n",
       "      <td>False</td>\n",
       "      <td>False</td>\n",
       "      <td>False</td>\n",
       "      <td>False</td>\n",
       "      <td>False</td>\n",
       "      <td>False</td>\n",
       "    </tr>\n",
       "    <tr>\n",
       "      <th>2</th>\n",
       "      <td>1</td>\n",
       "      <td>130.0</td>\n",
       "      <td>False</td>\n",
       "      <td>0</td>\n",
       "      <td>0</td>\n",
       "      <td>1</td>\n",
       "      <td>45892.0</td>\n",
       "      <td>946</td>\n",
       "      <td>17148</td>\n",
       "      <td>132</td>\n",
       "      <td>...</td>\n",
       "      <td>False</td>\n",
       "      <td>False</td>\n",
       "      <td>False</td>\n",
       "      <td>False</td>\n",
       "      <td>False</td>\n",
       "      <td>False</td>\n",
       "      <td>False</td>\n",
       "      <td>False</td>\n",
       "      <td>False</td>\n",
       "      <td>False</td>\n",
       "    </tr>\n",
       "    <tr>\n",
       "      <th>8</th>\n",
       "      <td>1</td>\n",
       "      <td>111.0</td>\n",
       "      <td>False</td>\n",
       "      <td>0</td>\n",
       "      <td>0</td>\n",
       "      <td>0</td>\n",
       "      <td>8454.0</td>\n",
       "      <td>280</td>\n",
       "      <td>6624</td>\n",
       "      <td>150</td>\n",
       "      <td>...</td>\n",
       "      <td>False</td>\n",
       "      <td>False</td>\n",
       "      <td>False</td>\n",
       "      <td>False</td>\n",
       "      <td>True</td>\n",
       "      <td>False</td>\n",
       "      <td>False</td>\n",
       "      <td>False</td>\n",
       "      <td>False</td>\n",
       "      <td>False</td>\n",
       "    </tr>\n",
       "    <tr>\n",
       "      <th>27</th>\n",
       "      <td>1</td>\n",
       "      <td>125.0</td>\n",
       "      <td>False</td>\n",
       "      <td>0</td>\n",
       "      <td>0</td>\n",
       "      <td>0</td>\n",
       "      <td>115949.0</td>\n",
       "      <td>589</td>\n",
       "      <td>12388</td>\n",
       "      <td>161</td>\n",
       "      <td>...</td>\n",
       "      <td>False</td>\n",
       "      <td>False</td>\n",
       "      <td>False</td>\n",
       "      <td>False</td>\n",
       "      <td>False</td>\n",
       "      <td>False</td>\n",
       "      <td>False</td>\n",
       "      <td>False</td>\n",
       "      <td>False</td>\n",
       "      <td>False</td>\n",
       "    </tr>\n",
       "    <tr>\n",
       "      <th>31</th>\n",
       "      <td>1</td>\n",
       "      <td>117.0</td>\n",
       "      <td>False</td>\n",
       "      <td>0</td>\n",
       "      <td>0</td>\n",
       "      <td>0</td>\n",
       "      <td>35896.0</td>\n",
       "      <td>538</td>\n",
       "      <td>15651</td>\n",
       "      <td>130</td>\n",
       "      <td>...</td>\n",
       "      <td>False</td>\n",
       "      <td>False</td>\n",
       "      <td>False</td>\n",
       "      <td>False</td>\n",
       "      <td>False</td>\n",
       "      <td>False</td>\n",
       "      <td>False</td>\n",
       "      <td>False</td>\n",
       "      <td>False</td>\n",
       "      <td>False</td>\n",
       "    </tr>\n",
       "  </tbody>\n",
       "</table>\n",
       "<p>5 rows × 71 columns</p>\n",
       "</div>"
      ],
      "text/plain": [
       "    eps  duration  ongoing  years_running  studios_colab  contentWarn  \\\n",
       "1     1     107.0    False              0              0            0   \n",
       "2     1     130.0    False              0              0            1   \n",
       "8     1     111.0    False              0              0            0   \n",
       "27    1     125.0    False              0              0            0   \n",
       "31    1     117.0    False              0              0            0   \n",
       "\n",
       "     watched  watching  wantWatch  dropped  ...  studio_primary_Shaft  \\\n",
       "1    58831.0      1453      21733      124  ...                 False   \n",
       "2    45892.0       946      17148      132  ...                 False   \n",
       "8     8454.0       280       6624      150  ...                 False   \n",
       "27  115949.0       589      12388      161  ...                 False   \n",
       "31   35896.0       538      15651      130  ...                 False   \n",
       "\n",
       "    studio_primary_Shin-Ei Animation  studio_primary_Studio Deen  \\\n",
       "1                              False                       False   \n",
       "2                              False                       False   \n",
       "8                              False                       False   \n",
       "27                             False                       False   \n",
       "31                             False                       False   \n",
       "\n",
       "    studio_primary_Studio Pierrot  studio_primary_Sunrise  \\\n",
       "1                           False                   False   \n",
       "2                           False                   False   \n",
       "8                           False                    True   \n",
       "27                          False                   False   \n",
       "31                          False                   False   \n",
       "\n",
       "    studio_primary_TMS Entertainment  studio_primary_Tatsunoko Production  \\\n",
       "1                              False                                False   \n",
       "2                              False                                False   \n",
       "8                              False                                False   \n",
       "27                             False                                False   \n",
       "31                             False                                False   \n",
       "\n",
       "    studio_primary_Toei Animation  studio_primary_XEBEC  \\\n",
       "1                           False                 False   \n",
       "2                           False                 False   \n",
       "8                           False                 False   \n",
       "27                          False                 False   \n",
       "31                          False                 False   \n",
       "\n",
       "    studio_primary_is_missing  \n",
       "1                       False  \n",
       "2                       False  \n",
       "8                       False  \n",
       "27                      False  \n",
       "31                      False  \n",
       "\n",
       "[5 rows x 71 columns]"
      ]
     },
     "execution_count": 47,
     "metadata": {},
     "output_type": "execute_result"
    }
   ],
   "source": [
    "x = pd.get_dummies(x, columns=x.select_dtypes(include=['object', 'category']).columns.tolist(), drop_first=True)\n",
    "x.head()\n"
   ]
  },
  {
   "cell_type": "code",
   "execution_count": 48,
   "id": "09438e83-227b-4123-92cf-6fbf0825c2c6",
   "metadata": {},
   "outputs": [],
   "source": [
    "x.drop(columns='ongoing',inplace=True)"
   ]
  },
  {
   "cell_type": "code",
   "execution_count": 49,
   "id": "6466bc02-0579-43ed-bf75-2834d3016f1f",
   "metadata": {},
   "outputs": [
    {
     "name": "stdout",
     "output_type": "stream",
     "text": [
      "<class 'pandas.core.frame.DataFrame'>\n",
      "Index: 7465 entries, 1 to 12100\n",
      "Data columns (total 70 columns):\n",
      " #   Column                               Non-Null Count  Dtype  \n",
      "---  ------                               --------------  -----  \n",
      " 0   eps                                  7465 non-null   int64  \n",
      " 1   duration                             7465 non-null   float64\n",
      " 2   years_running                        7465 non-null   int64  \n",
      " 3   studios_colab                        7465 non-null   int64  \n",
      " 4   contentWarn                          7465 non-null   int64  \n",
      " 5   watched                              7465 non-null   float64\n",
      " 6   watching                             7465 non-null   int64  \n",
      " 7   wantWatch                            7465 non-null   int64  \n",
      " 8   dropped                              7465 non-null   int64  \n",
      " 9   votes                                7465 non-null   int64  \n",
      " 10  tag_Based_on_a_Manga                 7465 non-null   int64  \n",
      " 11  tag_Comedy                           7465 non-null   int64  \n",
      " 12  tag_Action                           7465 non-null   int64  \n",
      " 13  tag_Fantasy                          7465 non-null   int64  \n",
      " 14  tag_Sci_Fi                           7465 non-null   int64  \n",
      " 15  tag_Shounen                          7465 non-null   int64  \n",
      " 16  tag_Original_Work                    7465 non-null   int64  \n",
      " 17  tag_Non_Human_Protagonists           7465 non-null   int64  \n",
      " 18  tag_Drama                            7465 non-null   int64  \n",
      " 19  tag_Adventure                        7465 non-null   int64  \n",
      " 20  tag_Family_Friendly                  7465 non-null   int64  \n",
      " 21  tag_Short_Episodes                   7465 non-null   int64  \n",
      " 22  tag_School_Life                      7465 non-null   int64  \n",
      " 23  tag_Romance                          7465 non-null   int64  \n",
      " 24  tag_Shorts                           7465 non-null   int64  \n",
      " 25  tag_Slice_of_Life                    7465 non-null   int64  \n",
      " 26  tag_Seinen                           7465 non-null   int64  \n",
      " 27  tag_Supernatural                     7465 non-null   int64  \n",
      " 28  tag_Magic                            7465 non-null   int64  \n",
      " 29  tag_Animal_Protagonists              7465 non-null   int64  \n",
      " 30  tag_Ecchi                            7465 non-null   int64  \n",
      " 31  tag_Mecha                            7465 non-null   int64  \n",
      " 32  tag_Based_on_a_Light_Novel           7465 non-null   int64  \n",
      " 33  tag_CG_Animation                     7465 non-null   int64  \n",
      " 34  tag_Superpowers                      7465 non-null   int64  \n",
      " 35  tag_Others                           7465 non-null   int64  \n",
      " 36  tag_missing                          7465 non-null   int64  \n",
      " 37  mediaType_Movie                      7465 non-null   bool   \n",
      " 38  mediaType_Music Video                7465 non-null   bool   \n",
      " 39  mediaType_OVA                        7465 non-null   bool   \n",
      " 40  mediaType_Other                      7465 non-null   bool   \n",
      " 41  mediaType_TV                         7465 non-null   bool   \n",
      " 42  mediaType_TV Special                 7465 non-null   bool   \n",
      " 43  mediaType_Web                        7465 non-null   bool   \n",
      " 44  mediaType_is_missing                 7465 non-null   bool   \n",
      " 45  sznOfRelease_Spring                  7465 non-null   bool   \n",
      " 46  sznOfRelease_Summer                  7465 non-null   bool   \n",
      " 47  sznOfRelease_Winter                  7465 non-null   bool   \n",
      " 48  sznOfRelease_is_missing              7465 non-null   bool   \n",
      " 49  studio_primary_AIC                   7465 non-null   bool   \n",
      " 50  studio_primary_Bones                 7465 non-null   bool   \n",
      " 51  studio_primary_DLE                   7465 non-null   bool   \n",
      " 52  studio_primary_GONZO                 7465 non-null   bool   \n",
      " 53  studio_primary_J.C. Staff            7465 non-null   bool   \n",
      " 54  studio_primary_Kyoto Animation       7465 non-null   bool   \n",
      " 55  studio_primary_MADHOUSE              7465 non-null   bool   \n",
      " 56  studio_primary_Nippon Animation      7465 non-null   bool   \n",
      " 57  studio_primary_OLM                   7465 non-null   bool   \n",
      " 58  studio_primary_Others                7465 non-null   bool   \n",
      " 59  studio_primary_Production I.G        7465 non-null   bool   \n",
      " 60  studio_primary_Shaft                 7465 non-null   bool   \n",
      " 61  studio_primary_Shin-Ei Animation     7465 non-null   bool   \n",
      " 62  studio_primary_Studio Deen           7465 non-null   bool   \n",
      " 63  studio_primary_Studio Pierrot        7465 non-null   bool   \n",
      " 64  studio_primary_Sunrise               7465 non-null   bool   \n",
      " 65  studio_primary_TMS Entertainment     7465 non-null   bool   \n",
      " 66  studio_primary_Tatsunoko Production  7465 non-null   bool   \n",
      " 67  studio_primary_Toei Animation        7465 non-null   bool   \n",
      " 68  studio_primary_XEBEC                 7465 non-null   bool   \n",
      " 69  studio_primary_is_missing            7465 non-null   bool   \n",
      "dtypes: bool(33), float64(2), int64(35)\n",
      "memory usage: 2.4 MB\n"
     ]
    }
   ],
   "source": [
    "x.info()"
   ]
  },
  {
   "cell_type": "code",
   "execution_count": 50,
   "id": "cf8ae77d-b850-4de0-8070-fc40d714188b",
   "metadata": {},
   "outputs": [],
   "source": [
    "from sklearn.model_selection import train_test_split\n",
    "\n",
    "from sklearn.linear_model import LinearRegression\n",
    "\n",
    "from sklearn.metrics import mean_squared_error, r2_score, mean_absolute_error"
   ]
  },
  {
   "cell_type": "code",
   "execution_count": 51,
   "id": "4d2015aa-6d40-4756-a4c1-798efc3fc82c",
   "metadata": {},
   "outputs": [],
   "source": [
    "X_train, X_test, Y_train, Y_test = train_test_split(x, y, test_size=0.2, random_state=1)\n"
   ]
  },
  {
   "cell_type": "code",
   "execution_count": 52,
   "id": "2d0ad337-b12c-4f47-8b9b-d049f1b2e91b",
   "metadata": {},
   "outputs": [
    {
     "data": {
      "text/html": [
       "<style>#sk-container-id-1 {color: black;}#sk-container-id-1 pre{padding: 0;}#sk-container-id-1 div.sk-toggleable {background-color: white;}#sk-container-id-1 label.sk-toggleable__label {cursor: pointer;display: block;width: 100%;margin-bottom: 0;padding: 0.3em;box-sizing: border-box;text-align: center;}#sk-container-id-1 label.sk-toggleable__label-arrow:before {content: \"▸\";float: left;margin-right: 0.25em;color: #696969;}#sk-container-id-1 label.sk-toggleable__label-arrow:hover:before {color: black;}#sk-container-id-1 div.sk-estimator:hover label.sk-toggleable__label-arrow:before {color: black;}#sk-container-id-1 div.sk-toggleable__content {max-height: 0;max-width: 0;overflow: hidden;text-align: left;background-color: #f0f8ff;}#sk-container-id-1 div.sk-toggleable__content pre {margin: 0.2em;color: black;border-radius: 0.25em;background-color: #f0f8ff;}#sk-container-id-1 input.sk-toggleable__control:checked~div.sk-toggleable__content {max-height: 200px;max-width: 100%;overflow: auto;}#sk-container-id-1 input.sk-toggleable__control:checked~label.sk-toggleable__label-arrow:before {content: \"▾\";}#sk-container-id-1 div.sk-estimator input.sk-toggleable__control:checked~label.sk-toggleable__label {background-color: #d4ebff;}#sk-container-id-1 div.sk-label input.sk-toggleable__control:checked~label.sk-toggleable__label {background-color: #d4ebff;}#sk-container-id-1 input.sk-hidden--visually {border: 0;clip: rect(1px 1px 1px 1px);clip: rect(1px, 1px, 1px, 1px);height: 1px;margin: -1px;overflow: hidden;padding: 0;position: absolute;width: 1px;}#sk-container-id-1 div.sk-estimator {font-family: monospace;background-color: #f0f8ff;border: 1px dotted black;border-radius: 0.25em;box-sizing: border-box;margin-bottom: 0.5em;}#sk-container-id-1 div.sk-estimator:hover {background-color: #d4ebff;}#sk-container-id-1 div.sk-parallel-item::after {content: \"\";width: 100%;border-bottom: 1px solid gray;flex-grow: 1;}#sk-container-id-1 div.sk-label:hover label.sk-toggleable__label {background-color: #d4ebff;}#sk-container-id-1 div.sk-serial::before {content: \"\";position: absolute;border-left: 1px solid gray;box-sizing: border-box;top: 0;bottom: 0;left: 50%;z-index: 0;}#sk-container-id-1 div.sk-serial {display: flex;flex-direction: column;align-items: center;background-color: white;padding-right: 0.2em;padding-left: 0.2em;position: relative;}#sk-container-id-1 div.sk-item {position: relative;z-index: 1;}#sk-container-id-1 div.sk-parallel {display: flex;align-items: stretch;justify-content: center;background-color: white;position: relative;}#sk-container-id-1 div.sk-item::before, #sk-container-id-1 div.sk-parallel-item::before {content: \"\";position: absolute;border-left: 1px solid gray;box-sizing: border-box;top: 0;bottom: 0;left: 50%;z-index: -1;}#sk-container-id-1 div.sk-parallel-item {display: flex;flex-direction: column;z-index: 1;position: relative;background-color: white;}#sk-container-id-1 div.sk-parallel-item:first-child::after {align-self: flex-end;width: 50%;}#sk-container-id-1 div.sk-parallel-item:last-child::after {align-self: flex-start;width: 50%;}#sk-container-id-1 div.sk-parallel-item:only-child::after {width: 0;}#sk-container-id-1 div.sk-dashed-wrapped {border: 1px dashed gray;margin: 0 0.4em 0.5em 0.4em;box-sizing: border-box;padding-bottom: 0.4em;background-color: white;}#sk-container-id-1 div.sk-label label {font-family: monospace;font-weight: bold;display: inline-block;line-height: 1.2em;}#sk-container-id-1 div.sk-label-container {text-align: center;}#sk-container-id-1 div.sk-container {/* jupyter's `normalize.less` sets `[hidden] { display: none; }` but bootstrap.min.css set `[hidden] { display: none !important; }` so we also need the `!important` here to be able to override the default hidden behavior on the sphinx rendered scikit-learn.org. See: https://github.com/scikit-learn/scikit-learn/issues/21755 */display: inline-block !important;position: relative;}#sk-container-id-1 div.sk-text-repr-fallback {display: none;}</style><div id=\"sk-container-id-1\" class=\"sk-top-container\"><div class=\"sk-text-repr-fallback\"><pre>LinearRegression()</pre><b>In a Jupyter environment, please rerun this cell to show the HTML representation or trust the notebook. <br />On GitHub, the HTML representation is unable to render, please try loading this page with nbviewer.org.</b></div><div class=\"sk-container\" hidden><div class=\"sk-item\"><div class=\"sk-estimator sk-toggleable\"><input class=\"sk-toggleable__control sk-hidden--visually\" id=\"sk-estimator-id-1\" type=\"checkbox\" checked><label for=\"sk-estimator-id-1\" class=\"sk-toggleable__label sk-toggleable__label-arrow\">LinearRegression</label><div class=\"sk-toggleable__content\"><pre>LinearRegression()</pre></div></div></div></div></div>"
      ],
      "text/plain": [
       "LinearRegression()"
      ]
     },
     "execution_count": 52,
     "metadata": {},
     "output_type": "execute_result"
    }
   ],
   "source": [
    "\n",
    "lin_model = LinearRegression()\n",
    "lin_model.fit(X_train, Y_train)\n"
   ]
  },
  {
   "cell_type": "code",
   "execution_count": 53,
   "id": "ec07ca56-caaf-4b37-95c2-1c5a9008ea2e",
   "metadata": {},
   "outputs": [],
   "source": [
    "def Model_performance(model, predictor, target):\n",
    "    pred = model.predict(predictor)\n",
    "    r2 = r2_score(target, pred)\n",
    "\n",
    "    rmse = np.sqrt(mean_squared_error(target, pred))\n",
    " \n",
    "    results = pd.DataFrame({\n",
    "        \"RMSE\": rmse,\n",
    "        \"R2 Score\": r2\n",
    "    },index=[0]\n",
    "                   )\n",
    "    \n",
    "    return results"
   ]
  },
  {
   "cell_type": "code",
   "execution_count": 54,
   "id": "0b050259-a5a6-41a1-a950-57fa1ed3e54e",
   "metadata": {},
   "outputs": [
    {
     "name": "stdout",
     "output_type": "stream",
     "text": [
      "Training Data Performance\n",
      "       RMSE  R2 Score\n",
      "0  0.578282  0.518574\n"
     ]
    }
   ],
   "source": [
    "print(\"Training Data Performance\")\n",
    "\n",
    "lin_model_train = Model_performance(lin_model, X_train, Y_train)\n",
    "\n",
    "print(lin_model_train)\n"
   ]
  },
  {
   "cell_type": "code",
   "execution_count": 55,
   "id": "3493ab60-20ba-419a-9054-00c93aa3efa2",
   "metadata": {},
   "outputs": [
    {
     "name": "stdout",
     "output_type": "stream",
     "text": [
      "Test Data Performance\n",
      "       RMSE  R2 Score\n",
      "0  0.564057  0.519399\n"
     ]
    }
   ],
   "source": [
    "print(\"Test Data Performance\")\n",
    "\n",
    "lin_model_test = Model_performance(lin_model, X_test, Y_test)\n",
    "\n",
    "print(lin_model_test)\n"
   ]
  },
  {
   "cell_type": "code",
   "execution_count": 56,
   "id": "7981e803-fd61-426b-a51c-6c2f0cbfdc24",
   "metadata": {},
   "outputs": [
    {
     "data": {
      "text/plain": [
       "Index(['eps', 'duration', 'years_running', 'studios_colab', 'contentWarn',\n",
       "       'watched', 'watching', 'wantWatch', 'dropped', 'votes',\n",
       "       'tag_Based_on_a_Manga', 'tag_Comedy', 'tag_Action', 'tag_Fantasy',\n",
       "       'tag_Sci_Fi', 'tag_Shounen', 'tag_Original_Work',\n",
       "       'tag_Non_Human_Protagonists', 'tag_Drama', 'tag_Adventure',\n",
       "       'tag_Family_Friendly', 'tag_Short_Episodes', 'tag_School_Life',\n",
       "       'tag_Romance', 'tag_Shorts', 'tag_Slice_of_Life', 'tag_Seinen',\n",
       "       'tag_Supernatural', 'tag_Magic', 'tag_Animal_Protagonists', 'tag_Ecchi',\n",
       "       'tag_Mecha', 'tag_Based_on_a_Light_Novel', 'tag_CG_Animation',\n",
       "       'tag_Superpowers', 'tag_Others', 'tag_missing', 'mediaType_Movie',\n",
       "       'mediaType_Music Video', 'mediaType_OVA', 'mediaType_Other',\n",
       "       'mediaType_TV', 'mediaType_TV Special', 'mediaType_Web',\n",
       "       'mediaType_is_missing', 'sznOfRelease_Spring', 'sznOfRelease_Summer',\n",
       "       'sznOfRelease_Winter', 'sznOfRelease_is_missing', 'studio_primary_AIC',\n",
       "       'studio_primary_Bones', 'studio_primary_DLE', 'studio_primary_GONZO',\n",
       "       'studio_primary_J.C. Staff', 'studio_primary_Kyoto Animation',\n",
       "       'studio_primary_MADHOUSE', 'studio_primary_Nippon Animation',\n",
       "       'studio_primary_OLM', 'studio_primary_Others',\n",
       "       'studio_primary_Production I.G', 'studio_primary_Shaft',\n",
       "       'studio_primary_Shin-Ei Animation', 'studio_primary_Studio Deen',\n",
       "       'studio_primary_Studio Pierrot', 'studio_primary_Sunrise',\n",
       "       'studio_primary_TMS Entertainment',\n",
       "       'studio_primary_Tatsunoko Production', 'studio_primary_Toei Animation',\n",
       "       'studio_primary_XEBEC', 'studio_primary_is_missing'],\n",
       "      dtype='object')"
      ]
     },
     "execution_count": 56,
     "metadata": {},
     "output_type": "execute_result"
    }
   ],
   "source": [
    "x.columns"
   ]
  },
  {
   "cell_type": "markdown",
   "id": "cbeff849-790a-4a56-a165-b8a7e23af93d",
   "metadata": {},
   "source": [
    "# Feature Selection technique"
   ]
  },
  {
   "cell_type": "markdown",
   "id": "d416b2b4-8d35-4d38-a872-be28cfd350d5",
   "metadata": {},
   "source": [
    "1. Sequential Search - small amount of data\n",
    "\n",
    "2. Grid Search - it is very expensive search algo\n",
    "\n",
    "3. Baselan Search faster but it overfits\n"
   ]
  },
  {
   "cell_type": "code",
   "execution_count": 57,
   "id": "16d6a5c3-9ca0-4e65-93e7-b255d0f85b73",
   "metadata": {},
   "outputs": [],
   "source": [
    "from mlxtend.feature_selection import SequentialFeatureSelector as SFS\n",
    "\n",
    "reg = LinearRegression()  \n",
    "sfs = SFS(reg, \n",
    "          k_features=X_train.shape[1], \n",
    "          forward=True,  \n",
    "          floating=False,  \n",
    "          scoring='r2',  \n",
    "          n_jobs=-1,  \n",
    "          cv=5  \n",
    "         )\n",
    "\n",
    "sfs = sfs.fit(X_train, Y_train)"
   ]
  },
  {
   "cell_type": "code",
   "execution_count": 58,
   "id": "c5024474-ea2f-4a23-a4a5-d4d6b0e366ae",
   "metadata": {},
   "outputs": [
    {
     "data": {
      "image/png": "[encoded data removed]",
      "text/plain": [
       "<Figure size 1500x500 with 1 Axes>"
      ]
     },
     "metadata": {},
     "output_type": "display_data"
    }
   ],
   "source": [
    "from mlxtend.plotting import plot_sequential_feature_selection as plot_sfs\n",
    "\n",
    "fig = plot_sfs(sfs.get_metric_dict(), kind='std_err', figsize=(15, 5))\n",
    "plt.title('Feature Selector SFS')\n",
    "plt.xticks(rotation=90)\n",
    "plt.show()"
   ]
  },
  {
   "cell_type": "code",
   "execution_count": 59,
   "id": "10cff390-8d0a-4f63-a63d-67b1c250e219",
   "metadata": {},
   "outputs": [],
   "source": [
    "from mlxtend.feature_selection import SequentialFeatureSelector as SFS\n",
    "\n",
    "reg = LinearRegression()\n",
    "\n",
    "sfs = SFS(\n",
    "    reg, \n",
    "    k_features=35, \n",
    "    forward=True, \n",
    "    floating=False, \n",
    "    scoring='r2', \n",
    "    n_jobs=-1, \n",
    "    cv=5\n",
    ")\n",
    "\n",
    "sfs = sfs.fit(X_train, Y_train)"
   ]
  },
  {
   "cell_type": "code",
   "execution_count": 60,
   "id": "699c20ad-4adf-4868-9885-29786cde6335",
   "metadata": {},
   "outputs": [
    {
     "data": {
      "image/png": "[encoded data removed]",
      "text/plain": [
       "<Figure size 1500x500 with 1 Axes>"
      ]
     },
     "metadata": {},
     "output_type": "display_data"
    }
   ],
   "source": [
    "from mlxtend.plotting import plot_sequential_feature_selection as plot_sfs\n",
    "\n",
    "fig = plot_sfs(sfs.get_metric_dict(), kind='std_err', figsize=(15, 5))\n",
    "plt.title(\"Feature Selector - SFS\")\n",
    "plt.xticks(rotation=90)\n",
    "plt.show()"
   ]
  },
  {
   "cell_type": "code",
   "execution_count": 61,
   "id": "9cc71b79-3585-4ba4-9005-ecde4582d91f",
   "metadata": {},
   "outputs": [
    {
     "name": "stdout",
     "output_type": "stream",
     "text": [
      "[1, 2, 4, 5, 7, 9, 10, 12, 13, 15, 18, 20, 21, 22, 24, 25, 26, 27, 30, 32, 37, 39, 40, 41, 43, 50, 51, 58, 59, 60, 62, 64, 65, 67, 69]\n"
     ]
    }
   ],
   "source": [
    "feature_index = list(sfs.k_feature_idx_)\n",
    "print(feature_index)"
   ]
  },
  {
   "cell_type": "code",
   "execution_count": 62,
   "id": "ba1ab634-9342-4bda-9595-6a271908f293",
   "metadata": {},
   "outputs": [
    {
     "data": {
      "text/plain": [
       "Index(['duration', 'years_running', 'contentWarn', 'watched', 'wantWatch',\n",
       "       'votes', 'tag_Based_on_a_Manga', 'tag_Action', 'tag_Fantasy',\n",
       "       'tag_Shounen', 'tag_Drama', 'tag_Family_Friendly', 'tag_Short_Episodes',\n",
       "       'tag_School_Life', 'tag_Shorts', 'tag_Slice_of_Life', 'tag_Seinen',\n",
       "       'tag_Supernatural', 'tag_Ecchi', 'tag_Based_on_a_Light_Novel',\n",
       "       'mediaType_Movie', 'mediaType_OVA', 'mediaType_Other', 'mediaType_TV',\n",
       "       'mediaType_Web', 'studio_primary_Bones', 'studio_primary_DLE',\n",
       "       'studio_primary_Others', 'studio_primary_Production I.G',\n",
       "       'studio_primary_Shaft', 'studio_primary_Studio Deen',\n",
       "       'studio_primary_Sunrise', 'studio_primary_TMS Entertainment',\n",
       "       'studio_primary_Toei Animation', 'studio_primary_is_missing'],\n",
       "      dtype='object')"
      ]
     },
     "execution_count": 62,
     "metadata": {},
     "output_type": "execute_result"
    }
   ],
   "source": [
    "X_train.columns[feature_index]"
   ]
  },
  {
   "cell_type": "code",
   "execution_count": 63,
   "id": "c4c5c711-6c52-44b0-9f84-754d3dad5b47",
   "metadata": {},
   "outputs": [],
   "source": [
    "X_train_final = X_train.iloc[:, feature_index]"
   ]
  },
  {
   "cell_type": "code",
   "execution_count": 64,
   "id": "5d6ad096-5c49-4558-974f-2049f3772332",
   "metadata": {},
   "outputs": [],
   "source": [
    "X_train_final = X_train.iloc[:, feature_index]\n",
    "\n",
    "\n",
    "X_test_final = X_test.iloc[:, feature_index]"
   ]
  },
  {
   "cell_type": "code",
   "execution_count": 65,
   "id": "bea8c157-c282-43be-a766-2ac0cb4866e5",
   "metadata": {},
   "outputs": [
    {
     "data": {
      "text/html": [
       "<style>#sk-container-id-2 {color: black;}#sk-container-id-2 pre{padding: 0;}#sk-container-id-2 div.sk-toggleable {background-color: white;}#sk-container-id-2 label.sk-toggleable__label {cursor: pointer;display: block;width: 100%;margin-bottom: 0;padding: 0.3em;box-sizing: border-box;text-align: center;}#sk-container-id-2 label.sk-toggleable__label-arrow:before {content: \"▸\";float: left;margin-right: 0.25em;color: #696969;}#sk-container-id-2 label.sk-toggleable__label-arrow:hover:before {color: black;}#sk-container-id-2 div.sk-estimator:hover label.sk-toggleable__label-arrow:before {color: black;}#sk-container-id-2 div.sk-toggleable__content {max-height: 0;max-width: 0;overflow: hidden;text-align: left;background-color: #f0f8ff;}#sk-container-id-2 div.sk-toggleable__content pre {margin: 0.2em;color: black;border-radius: 0.25em;background-color: #f0f8ff;}#sk-container-id-2 input.sk-toggleable__control:checked~div.sk-toggleable__content {max-height: 200px;max-width: 100%;overflow: auto;}#sk-container-id-2 input.sk-toggleable__control:checked~label.sk-toggleable__label-arrow:before {content: \"▾\";}#sk-container-id-2 div.sk-estimator input.sk-toggleable__control:checked~label.sk-toggleable__label {background-color: #d4ebff;}#sk-container-id-2 div.sk-label input.sk-toggleable__control:checked~label.sk-toggleable__label {background-color: #d4ebff;}#sk-container-id-2 input.sk-hidden--visually {border: 0;clip: rect(1px 1px 1px 1px);clip: rect(1px, 1px, 1px, 1px);height: 1px;margin: -1px;overflow: hidden;padding: 0;position: absolute;width: 1px;}#sk-container-id-2 div.sk-estimator {font-family: monospace;background-color: #f0f8ff;border: 1px dotted black;border-radius: 0.25em;box-sizing: border-box;margin-bottom: 0.5em;}#sk-container-id-2 div.sk-estimator:hover {background-color: #d4ebff;}#sk-container-id-2 div.sk-parallel-item::after {content: \"\";width: 100%;border-bottom: 1px solid gray;flex-grow: 1;}#sk-container-id-2 div.sk-label:hover label.sk-toggleable__label {background-color: #d4ebff;}#sk-container-id-2 div.sk-serial::before {content: \"\";position: absolute;border-left: 1px solid gray;box-sizing: border-box;top: 0;bottom: 0;left: 50%;z-index: 0;}#sk-container-id-2 div.sk-serial {display: flex;flex-direction: column;align-items: center;background-color: white;padding-right: 0.2em;padding-left: 0.2em;position: relative;}#sk-container-id-2 div.sk-item {position: relative;z-index: 1;}#sk-container-id-2 div.sk-parallel {display: flex;align-items: stretch;justify-content: center;background-color: white;position: relative;}#sk-container-id-2 div.sk-item::before, #sk-container-id-2 div.sk-parallel-item::before {content: \"\";position: absolute;border-left: 1px solid gray;box-sizing: border-box;top: 0;bottom: 0;left: 50%;z-index: -1;}#sk-container-id-2 div.sk-parallel-item {display: flex;flex-direction: column;z-index: 1;position: relative;background-color: white;}#sk-container-id-2 div.sk-parallel-item:first-child::after {align-self: flex-end;width: 50%;}#sk-container-id-2 div.sk-parallel-item:last-child::after {align-self: flex-start;width: 50%;}#sk-container-id-2 div.sk-parallel-item:only-child::after {width: 0;}#sk-container-id-2 div.sk-dashed-wrapped {border: 1px dashed gray;margin: 0 0.4em 0.5em 0.4em;box-sizing: border-box;padding-bottom: 0.4em;background-color: white;}#sk-container-id-2 div.sk-label label {font-family: monospace;font-weight: bold;display: inline-block;line-height: 1.2em;}#sk-container-id-2 div.sk-label-container {text-align: center;}#sk-container-id-2 div.sk-container {/* jupyter's `normalize.less` sets `[hidden] { display: none; }` but bootstrap.min.css set `[hidden] { display: none !important; }` so we also need the `!important` here to be able to override the default hidden behavior on the sphinx rendered scikit-learn.org. See: https://github.com/scikit-learn/scikit-learn/issues/21755 */display: inline-block !important;position: relative;}#sk-container-id-2 div.sk-text-repr-fallback {display: none;}</style><div id=\"sk-container-id-2\" class=\"sk-top-container\"><div class=\"sk-text-repr-fallback\"><pre>LinearRegression()</pre><b>In a Jupyter environment, please rerun this cell to show the HTML representation or trust the notebook. <br />On GitHub, the HTML representation is unable to render, please try loading this page with nbviewer.org.</b></div><div class=\"sk-container\" hidden><div class=\"sk-item\"><div class=\"sk-estimator sk-toggleable\"><input class=\"sk-toggleable__control sk-hidden--visually\" id=\"sk-estimator-id-2\" type=\"checkbox\" checked><label for=\"sk-estimator-id-2\" class=\"sk-toggleable__label sk-toggleable__label-arrow\">LinearRegression</label><div class=\"sk-toggleable__content\"><pre>LinearRegression()</pre></div></div></div></div></div>"
      ],
      "text/plain": [
       "LinearRegression()"
      ]
     },
     "execution_count": 65,
     "metadata": {},
     "output_type": "execute_result"
    }
   ],
   "source": [
    "lin_model_v2 = LinearRegression()\n",
    "lin_model_v2.fit(X_train_final, Y_train)\n"
   ]
  },
  {
   "cell_type": "code",
   "execution_count": 66,
   "id": "1b3adf1b-1016-4b32-9364-6a0deafbf77a",
   "metadata": {},
   "outputs": [
    {
     "name": "stdout",
     "output_type": "stream",
     "text": [
      "Training Data Performance\n",
      "       RMSE  R2 Score\n",
      "0  0.578282  0.518574\n"
     ]
    }
   ],
   "source": [
    "print(\"Training Data Performance\")\n",
    "\n",
    "lin_model_train = Model_performance(lin_model, X_train, Y_train)\n",
    "\n",
    "print(lin_model_train)\n"
   ]
  },
  {
   "cell_type": "code",
   "execution_count": 67,
   "id": "090c86cc-9bde-4109-a319-2d9b20c5c73f",
   "metadata": {},
   "outputs": [
    {
     "name": "stdout",
     "output_type": "stream",
     "text": [
      "Training Data Performance\n",
      "       RMSE  R2 Score\n",
      "0  0.564057  0.519399\n"
     ]
    }
   ],
   "source": [
    "print(\"Training Data Performance\")\n",
    "\n",
    "lin_model_train = Model_performance(lin_model, X_test, Y_test)\n",
    "\n",
    "print(lin_model_train)"
   ]
  },
  {
   "cell_type": "code",
   "execution_count": 68,
   "id": "8f865aa3-a8a6-475c-8f91-5890c6ca4ead",
   "metadata": {},
   "outputs": [
    {
     "data": {
      "text/plain": [
       "Index(['duration', 'years_running', 'contentWarn', 'watched', 'wantWatch',\n",
       "       'votes', 'tag_Based_on_a_Manga', 'tag_Action', 'tag_Fantasy',\n",
       "       'tag_Shounen', 'tag_Drama', 'tag_Family_Friendly', 'tag_Short_Episodes',\n",
       "       'tag_School_Life', 'tag_Shorts', 'tag_Slice_of_Life', 'tag_Seinen',\n",
       "       'tag_Supernatural', 'tag_Ecchi', 'tag_Based_on_a_Light_Novel',\n",
       "       'mediaType_Movie', 'mediaType_OVA', 'mediaType_Other', 'mediaType_TV',\n",
       "       'mediaType_Web', 'studio_primary_Bones', 'studio_primary_DLE',\n",
       "       'studio_primary_Others', 'studio_primary_Production I.G',\n",
       "       'studio_primary_Shaft', 'studio_primary_Studio Deen',\n",
       "       'studio_primary_Sunrise', 'studio_primary_TMS Entertainment',\n",
       "       'studio_primary_Toei Animation', 'studio_primary_is_missing'],\n",
       "      dtype='object')"
      ]
     },
     "execution_count": 68,
     "metadata": {},
     "output_type": "execute_result"
    }
   ],
   "source": [
    "X_train.columns[feature_index]"
   ]
  },
  {
   "cell_type": "code",
   "execution_count": 69,
   "id": "cbd6b3e3-8642-4160-ba40-90378720d3d0",
   "metadata": {},
   "outputs": [
    {
     "data": {
      "text/html": [
       "<div>\n",
       "<style scoped>\n",
       "    .dataframe tbody tr th:only-of-type {\n",
       "        vertical-align: middle;\n",
       "    }\n",
       "\n",
       "    .dataframe tbody tr th {\n",
       "        vertical-align: top;\n",
       "    }\n",
       "\n",
       "    .dataframe thead th {\n",
       "        text-align: right;\n",
       "    }\n",
       "</style>\n",
       "<table border=\"1\" class=\"dataframe\">\n",
       "  <thead>\n",
       "    <tr style=\"text-align: right;\">\n",
       "      <th></th>\n",
       "      <th>eps</th>\n",
       "      <th>duration</th>\n",
       "      <th>years_running</th>\n",
       "      <th>studios_colab</th>\n",
       "      <th>contentWarn</th>\n",
       "      <th>watched</th>\n",
       "      <th>watching</th>\n",
       "      <th>wantWatch</th>\n",
       "      <th>dropped</th>\n",
       "      <th>votes</th>\n",
       "      <th>...</th>\n",
       "      <th>studio_primary_Shaft</th>\n",
       "      <th>studio_primary_Shin-Ei Animation</th>\n",
       "      <th>studio_primary_Studio Deen</th>\n",
       "      <th>studio_primary_Studio Pierrot</th>\n",
       "      <th>studio_primary_Sunrise</th>\n",
       "      <th>studio_primary_TMS Entertainment</th>\n",
       "      <th>studio_primary_Tatsunoko Production</th>\n",
       "      <th>studio_primary_Toei Animation</th>\n",
       "      <th>studio_primary_XEBEC</th>\n",
       "      <th>studio_primary_is_missing</th>\n",
       "    </tr>\n",
       "  </thead>\n",
       "  <tbody>\n",
       "    <tr>\n",
       "      <th>8843</th>\n",
       "      <td>1</td>\n",
       "      <td>1.0</td>\n",
       "      <td>0</td>\n",
       "      <td>0</td>\n",
       "      <td>0</td>\n",
       "      <td>23.0</td>\n",
       "      <td>0</td>\n",
       "      <td>17</td>\n",
       "      <td>0</td>\n",
       "      <td>14</td>\n",
       "      <td>...</td>\n",
       "      <td>False</td>\n",
       "      <td>False</td>\n",
       "      <td>False</td>\n",
       "      <td>False</td>\n",
       "      <td>False</td>\n",
       "      <td>False</td>\n",
       "      <td>False</td>\n",
       "      <td>False</td>\n",
       "      <td>False</td>\n",
       "      <td>True</td>\n",
       "    </tr>\n",
       "    <tr>\n",
       "      <th>1599</th>\n",
       "      <td>1</td>\n",
       "      <td>24.0</td>\n",
       "      <td>0</td>\n",
       "      <td>0</td>\n",
       "      <td>0</td>\n",
       "      <td>1278.0</td>\n",
       "      <td>24</td>\n",
       "      <td>1117</td>\n",
       "      <td>15</td>\n",
       "      <td>735</td>\n",
       "      <td>...</td>\n",
       "      <td>True</td>\n",
       "      <td>False</td>\n",
       "      <td>False</td>\n",
       "      <td>False</td>\n",
       "      <td>False</td>\n",
       "      <td>False</td>\n",
       "      <td>False</td>\n",
       "      <td>False</td>\n",
       "      <td>False</td>\n",
       "      <td>False</td>\n",
       "    </tr>\n",
       "  </tbody>\n",
       "</table>\n",
       "<p>2 rows × 70 columns</p>\n",
       "</div>"
      ],
      "text/plain": [
       "      eps  duration  years_running  studios_colab  contentWarn  watched  \\\n",
       "8843    1       1.0              0              0            0     23.0   \n",
       "1599    1      24.0              0              0            0   1278.0   \n",
       "\n",
       "      watching  wantWatch  dropped  votes  ...  studio_primary_Shaft  \\\n",
       "8843         0         17        0     14  ...                 False   \n",
       "1599        24       1117       15    735  ...                  True   \n",
       "\n",
       "      studio_primary_Shin-Ei Animation  studio_primary_Studio Deen  \\\n",
       "8843                             False                       False   \n",
       "1599                             False                       False   \n",
       "\n",
       "      studio_primary_Studio Pierrot  studio_primary_Sunrise  \\\n",
       "8843                          False                   False   \n",
       "1599                          False                   False   \n",
       "\n",
       "      studio_primary_TMS Entertainment  studio_primary_Tatsunoko Production  \\\n",
       "8843                             False                                False   \n",
       "1599                             False                                False   \n",
       "\n",
       "      studio_primary_Toei Animation  studio_primary_XEBEC  \\\n",
       "8843                          False                 False   \n",
       "1599                          False                 False   \n",
       "\n",
       "      studio_primary_is_missing  \n",
       "8843                       True  \n",
       "1599                      False  \n",
       "\n",
       "[2 rows x 70 columns]"
      ]
     },
     "execution_count": 69,
     "metadata": {},
     "output_type": "execute_result"
    }
   ],
   "source": [
    "X_train.head(2)"
   ]
  },
  {
   "cell_type": "code",
   "execution_count": null,
   "id": "d67fddcf-84f9-4369-b208-40e116f97a96",
   "metadata": {},
   "outputs": [],
   "source": []
  },
  {
   "cell_type": "code",
   "execution_count": null,
   "id": "33c20884-0b3d-46ed-aaab-4affa8be9ce8",
   "metadata": {},
   "outputs": [],
   "source": []
  }
 ],
 "metadata": {
  "kernelspec": {
   "display_name": "Python 3 (ipykernel)",
   "language": "python",
   "name": "python3"
  },
  "language_info": {
   "codemirror_mode": {
    "name": "ipython",
    "version": 3
   },
   "file_extension": ".py",
   "mimetype": "text/x-python",
   "name": "python",
   "nbconvert_exporter": "python",
   "pygments_lexer": "ipython3",
   "version": "3.12.0"
  }
 },
 "nbformat": 4,
 "nbformat_minor": 5
}
